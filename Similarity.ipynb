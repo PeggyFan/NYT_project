{
 "cells": [
  {
   "cell_type": "code",
   "execution_count": 41,
   "metadata": {
    "collapsed": true
   },
   "outputs": [],
   "source": [
    "from collections import Counter\n",
    "from sklearn.metrics.pairwise import cosine_similarity, euclidean_distances\n",
    "from sklearn.feature_extraction.text import CountVectorizer, TfidfVectorizer\n",
    "import numpy as np\n",
    "from nltk.corpus import stopwords\n",
    "from nltk import word_tokenize\n",
    "from sklearn.metrics.pairwise import linear_kernel\n",
    "from bs4 import BeautifulSoup\n",
    "import re\n",
    "import requests\n",
    "import unidecode\n",
    "import string\n",
    "from nltk.stem.snowball import SnowballStemmer\n",
    "snowball = SnowballStemmer('english')\n"
   ]
  },
  {
   "cell_type": "code",
   "execution_count": 3,
   "metadata": {
    "collapsed": false
   },
   "outputs": [],
   "source": [
    "hilary = pd.read_csv('data/hilary_scores.csv')"
   ]
  },
  {
   "cell_type": "code",
   "execution_count": 50,
   "metadata": {
    "collapsed": false
   },
   "outputs": [
    {
     "data": {
      "text/html": [
       "<div>\n",
       "<table border=\"1\" class=\"dataframe\">\n",
       "  <thead>\n",
       "    <tr style=\"text-align: right;\">\n",
       "      <th></th>\n",
       "      <th>Unnamed: 0</th>\n",
       "      <th>Unnamed: 0.1</th>\n",
       "      <th>Comment</th>\n",
       "      <th>URL</th>\n",
       "      <th>Sentiment</th>\n",
       "      <th>Sentiment_b</th>\n",
       "      <th>Subjectivity</th>\n",
       "      <th>Subjectivity_b</th>\n",
       "    </tr>\n",
       "  </thead>\n",
       "  <tbody>\n",
       "    <tr>\n",
       "      <th>0</th>\n",
       "      <td>0</td>\n",
       "      <td>0</td>\n",
       "      <td>I do not see the problem.  Japan has always pr...</td>\n",
       "      <td>http://www.nytimes.com/2015/08/01/business/tpp...</td>\n",
       "      <td>0.145714</td>\n",
       "      <td>1</td>\n",
       "      <td>0.338571</td>\n",
       "      <td>1</td>\n",
       "    </tr>\n",
       "    <tr>\n",
       "      <th>1</th>\n",
       "      <td>1</td>\n",
       "      <td>1</td>\n",
       "      <td>We persistently run a trade deficit.  It is im...</td>\n",
       "      <td>http://www.nytimes.com/2015/08/01/business/tpp...</td>\n",
       "      <td>0.090152</td>\n",
       "      <td>1</td>\n",
       "      <td>0.475758</td>\n",
       "      <td>1</td>\n",
       "    </tr>\n",
       "    <tr>\n",
       "      <th>2</th>\n",
       "      <td>2</td>\n",
       "      <td>2</td>\n",
       "      <td>Again, the world can do, what the US people ca...</td>\n",
       "      <td>http://www.nytimes.com/2015/08/01/business/tpp...</td>\n",
       "      <td>-0.012143</td>\n",
       "      <td>0</td>\n",
       "      <td>0.335714</td>\n",
       "      <td>1</td>\n",
       "    </tr>\n",
       "    <tr>\n",
       "      <th>3</th>\n",
       "      <td>3</td>\n",
       "      <td>3</td>\n",
       "      <td>In the photo accompanying this article the rep...</td>\n",
       "      <td>http://www.nytimes.com/2015/08/01/business/tpp...</td>\n",
       "      <td>0.091970</td>\n",
       "      <td>1</td>\n",
       "      <td>0.456288</td>\n",
       "      <td>1</td>\n",
       "    </tr>\n",
       "    <tr>\n",
       "      <th>4</th>\n",
       "      <td>4</td>\n",
       "      <td>4</td>\n",
       "      <td>It does not seem like any of the issues under ...</td>\n",
       "      <td>http://www.nytimes.com/2015/08/01/business/tpp...</td>\n",
       "      <td>0.311111</td>\n",
       "      <td>1</td>\n",
       "      <td>0.488889</td>\n",
       "      <td>1</td>\n",
       "    </tr>\n",
       "  </tbody>\n",
       "</table>\n",
       "</div>"
      ],
      "text/plain": [
       "   Unnamed: 0  Unnamed: 0.1  \\\n",
       "0           0             0   \n",
       "1           1             1   \n",
       "2           2             2   \n",
       "3           3             3   \n",
       "4           4             4   \n",
       "\n",
       "                                             Comment  \\\n",
       "0  I do not see the problem.  Japan has always pr...   \n",
       "1  We persistently run a trade deficit.  It is im...   \n",
       "2  Again, the world can do, what the US people ca...   \n",
       "3  In the photo accompanying this article the rep...   \n",
       "4  It does not seem like any of the issues under ...   \n",
       "\n",
       "                                                 URL  Sentiment  Sentiment_b  \\\n",
       "0  http://www.nytimes.com/2015/08/01/business/tpp...   0.145714            1   \n",
       "1  http://www.nytimes.com/2015/08/01/business/tpp...   0.090152            1   \n",
       "2  http://www.nytimes.com/2015/08/01/business/tpp...  -0.012143            0   \n",
       "3  http://www.nytimes.com/2015/08/01/business/tpp...   0.091970            1   \n",
       "4  http://www.nytimes.com/2015/08/01/business/tpp...   0.311111            1   \n",
       "\n",
       "   Subjectivity  Subjectivity_b  \n",
       "0      0.338571               1  \n",
       "1      0.475758               1  \n",
       "2      0.335714               1  \n",
       "3      0.456288               1  \n",
       "4      0.488889               1  "
      ]
     },
     "execution_count": 50,
     "metadata": {},
     "output_type": "execute_result"
    }
   ],
   "source": [
    "hilary['URL'][1697]\n",
    "hilary.head()"
   ]
  },
  {
   "cell_type": "code",
   "execution_count": 51,
   "metadata": {
    "collapsed": false
   },
   "outputs": [
    {
     "data": {
      "text/html": [
       "<div>\n",
       "<table border=\"1\" class=\"dataframe\">\n",
       "  <thead>\n",
       "    <tr style=\"text-align: right;\">\n",
       "      <th></th>\n",
       "      <th>Comment</th>\n",
       "      <th>URL</th>\n",
       "    </tr>\n",
       "  </thead>\n",
       "  <tbody>\n",
       "    <tr>\n",
       "      <th>313</th>\n",
       "      <td>Obama and the Democrats need to remind the pub...</td>\n",
       "      <td>http://www.nytimes.com/2015/07/16/world/middle...</td>\n",
       "    </tr>\n",
       "    <tr>\n",
       "      <th>314</th>\n",
       "      <td>Iran realizes that having a bomb is really not...</td>\n",
       "      <td>http://www.nytimes.com/2015/07/16/world/middle...</td>\n",
       "    </tr>\n",
       "    <tr>\n",
       "      <th>315</th>\n",
       "      <td>After listening on C-Span to the nuclear exper...</td>\n",
       "      <td>http://www.nytimes.com/2015/07/16/world/middle...</td>\n",
       "    </tr>\n",
       "    <tr>\n",
       "      <th>316</th>\n",
       "      <td>The key question is.  How effective are the me...</td>\n",
       "      <td>http://www.nytimes.com/2015/07/16/world/middle...</td>\n",
       "    </tr>\n",
       "    <tr>\n",
       "      <th>317</th>\n",
       "      <td>The reality, Iran is and will continue to be a...</td>\n",
       "      <td>http://www.nytimes.com/2015/07/16/world/middle...</td>\n",
       "    </tr>\n",
       "    <tr>\n",
       "      <th>318</th>\n",
       "      <td>President Obama has promised Iran that in ten ...</td>\n",
       "      <td>http://www.nytimes.com/2015/07/16/world/middle...</td>\n",
       "    </tr>\n",
       "    <tr>\n",
       "      <th>319</th>\n",
       "      <td>I don't see any appeasement in this deal as th...</td>\n",
       "      <td>http://www.nytimes.com/2015/07/16/world/middle...</td>\n",
       "    </tr>\n",
       "    <tr>\n",
       "      <th>320</th>\n",
       "      <td>For the first time in all of our history as a ...</td>\n",
       "      <td>http://www.nytimes.com/2015/07/16/world/middle...</td>\n",
       "    </tr>\n",
       "    <tr>\n",
       "      <th>321</th>\n",
       "      <td>Two glaring facts seem to be lumped under the ...</td>\n",
       "      <td>http://www.nytimes.com/2015/07/16/world/middle...</td>\n",
       "    </tr>\n",
       "    <tr>\n",
       "      <th>322</th>\n",
       "      <td>In the absence of honest skepticism let alone ...</td>\n",
       "      <td>http://www.nytimes.com/2015/07/16/world/middle...</td>\n",
       "    </tr>\n",
       "    <tr>\n",
       "      <th>323</th>\n",
       "      <td>Netanyahu and his posse of Republicans (marchi...</td>\n",
       "      <td>http://www.nytimes.com/2015/07/16/world/middle...</td>\n",
       "    </tr>\n",
       "    <tr>\n",
       "      <th>324</th>\n",
       "      <td>I see at least issues:&lt;br/&gt;&lt;br/&gt;1.  The premis...</td>\n",
       "      <td>http://www.nytimes.com/2015/07/16/world/middle...</td>\n",
       "    </tr>\n",
       "    <tr>\n",
       "      <th>325</th>\n",
       "      <td>Allowing Iran to create weapons-grade uranium ...</td>\n",
       "      <td>http://www.nytimes.com/2015/07/16/world/middle...</td>\n",
       "    </tr>\n",
       "    <tr>\n",
       "      <th>326</th>\n",
       "      <td>The reality of this situation, after all the a...</td>\n",
       "      <td>http://www.nytimes.com/2015/07/16/world/middle...</td>\n",
       "    </tr>\n",
       "    <tr>\n",
       "      <th>327</th>\n",
       "      <td>Obama's legacy:&lt;br/&gt;1) a charismatic man hitti...</td>\n",
       "      <td>http://www.nytimes.com/2015/07/16/world/middle...</td>\n",
       "    </tr>\n",
       "    <tr>\n",
       "      <th>328</th>\n",
       "      <td>Your headline describes the disagreements over...</td>\n",
       "      <td>http://www.nytimes.com/2015/07/16/world/middle...</td>\n",
       "    </tr>\n",
       "    <tr>\n",
       "      <th>329</th>\n",
       "      <td>The only alternative to capitulation is war?  ...</td>\n",
       "      <td>http://www.nytimes.com/2015/07/16/world/middle...</td>\n",
       "    </tr>\n",
       "    <tr>\n",
       "      <th>2357</th>\n",
       "      <td>Skepticism? Here's a challenge - find ONE thin...</td>\n",
       "      <td>http://www.nytimes.com/2015/07/16/world/middle...</td>\n",
       "    </tr>\n",
       "    <tr>\n",
       "      <th>2358</th>\n",
       "      <td>The Neo-cons and Republicans may still have th...</td>\n",
       "      <td>http://www.nytimes.com/2015/07/16/world/middle...</td>\n",
       "    </tr>\n",
       "    <tr>\n",
       "      <th>2359</th>\n",
       "      <td>There was a great interview on the radio progr...</td>\n",
       "      <td>http://www.nytimes.com/2015/07/16/world/middle...</td>\n",
       "    </tr>\n",
       "    <tr>\n",
       "      <th>2360</th>\n",
       "      <td>Ignoring the rhetoric of the the Iranian gover...</td>\n",
       "      <td>http://www.nytimes.com/2015/07/16/world/middle...</td>\n",
       "    </tr>\n",
       "    <tr>\n",
       "      <th>2361</th>\n",
       "      <td>That this is the alternative to war is not sup...</td>\n",
       "      <td>http://www.nytimes.com/2015/07/16/world/middle...</td>\n",
       "    </tr>\n",
       "    <tr>\n",
       "      <th>2362</th>\n",
       "      <td>What unmitigated rot is this title?  &lt;br/&gt;&lt;br/...</td>\n",
       "      <td>http://www.nytimes.com/2015/07/16/world/middle...</td>\n",
       "    </tr>\n",
       "    <tr>\n",
       "      <th>2363</th>\n",
       "      <td>There are many Republican politicians who have...</td>\n",
       "      <td>http://www.nytimes.com/2015/07/16/world/middle...</td>\n",
       "    </tr>\n",
       "    <tr>\n",
       "      <th>2364</th>\n",
       "      <td>Those that yell the loudest against this agree...</td>\n",
       "      <td>http://www.nytimes.com/2015/07/16/world/middle...</td>\n",
       "    </tr>\n",
       "  </tbody>\n",
       "</table>\n",
       "</div>"
      ],
      "text/plain": [
       "                                                Comment  \\\n",
       "313   Obama and the Democrats need to remind the pub...   \n",
       "314   Iran realizes that having a bomb is really not...   \n",
       "315   After listening on C-Span to the nuclear exper...   \n",
       "316   The key question is.  How effective are the me...   \n",
       "317   The reality, Iran is and will continue to be a...   \n",
       "318   President Obama has promised Iran that in ten ...   \n",
       "319   I don't see any appeasement in this deal as th...   \n",
       "320   For the first time in all of our history as a ...   \n",
       "321   Two glaring facts seem to be lumped under the ...   \n",
       "322   In the absence of honest skepticism let alone ...   \n",
       "323   Netanyahu and his posse of Republicans (marchi...   \n",
       "324   I see at least issues:<br/><br/>1.  The premis...   \n",
       "325   Allowing Iran to create weapons-grade uranium ...   \n",
       "326   The reality of this situation, after all the a...   \n",
       "327   Obama's legacy:<br/>1) a charismatic man hitti...   \n",
       "328   Your headline describes the disagreements over...   \n",
       "329   The only alternative to capitulation is war?  ...   \n",
       "2357  Skepticism? Here's a challenge - find ONE thin...   \n",
       "2358  The Neo-cons and Republicans may still have th...   \n",
       "2359  There was a great interview on the radio progr...   \n",
       "2360  Ignoring the rhetoric of the the Iranian gover...   \n",
       "2361  That this is the alternative to war is not sup...   \n",
       "2362  What unmitigated rot is this title?  <br/><br/...   \n",
       "2363  There are many Republican politicians who have...   \n",
       "2364  Those that yell the loudest against this agree...   \n",
       "\n",
       "                                                    URL  \n",
       "313   http://www.nytimes.com/2015/07/16/world/middle...  \n",
       "314   http://www.nytimes.com/2015/07/16/world/middle...  \n",
       "315   http://www.nytimes.com/2015/07/16/world/middle...  \n",
       "316   http://www.nytimes.com/2015/07/16/world/middle...  \n",
       "317   http://www.nytimes.com/2015/07/16/world/middle...  \n",
       "318   http://www.nytimes.com/2015/07/16/world/middle...  \n",
       "319   http://www.nytimes.com/2015/07/16/world/middle...  \n",
       "320   http://www.nytimes.com/2015/07/16/world/middle...  \n",
       "321   http://www.nytimes.com/2015/07/16/world/middle...  \n",
       "322   http://www.nytimes.com/2015/07/16/world/middle...  \n",
       "323   http://www.nytimes.com/2015/07/16/world/middle...  \n",
       "324   http://www.nytimes.com/2015/07/16/world/middle...  \n",
       "325   http://www.nytimes.com/2015/07/16/world/middle...  \n",
       "326   http://www.nytimes.com/2015/07/16/world/middle...  \n",
       "327   http://www.nytimes.com/2015/07/16/world/middle...  \n",
       "328   http://www.nytimes.com/2015/07/16/world/middle...  \n",
       "329   http://www.nytimes.com/2015/07/16/world/middle...  \n",
       "2357  http://www.nytimes.com/2015/07/16/world/middle...  \n",
       "2358  http://www.nytimes.com/2015/07/16/world/middle...  \n",
       "2359  http://www.nytimes.com/2015/07/16/world/middle...  \n",
       "2360  http://www.nytimes.com/2015/07/16/world/middle...  \n",
       "2361  http://www.nytimes.com/2015/07/16/world/middle...  \n",
       "2362  http://www.nytimes.com/2015/07/16/world/middle...  \n",
       "2363  http://www.nytimes.com/2015/07/16/world/middle...  \n",
       "2364  http://www.nytimes.com/2015/07/16/world/middle...  "
      ]
     },
     "execution_count": 51,
     "metadata": {},
     "output_type": "execute_result"
    }
   ],
   "source": [
    "url = 'http://www.nytimes.com/2015/07/16/world/middleeast/obama-diplomacy-iran-nuclear-deal.html'\n",
    "table = hilary[['Comment', 'URL']][hilary['URL'] == url]\n",
    "table"
   ]
  },
  {
   "cell_type": "code",
   "execution_count": 6,
   "metadata": {
    "collapsed": false
   },
   "outputs": [
    {
     "data": {
      "text/plain": [
       "'Why America Is Not the Greatest Country in the World!YouTube:\" The Newsroom \"America is not the greatest country in the world anymore\" 2012 TV series \"'"
      ]
     },
     "execution_count": 6,
     "metadata": {},
     "output_type": "execute_result"
    }
   ],
   "source": [
    "## strip HTML tags\n",
    "x = hilary['Comment'][1697]\n",
    "def remove_html_tags(data):\n",
    "    p = re.compile(r'<[^<]*?>')\n",
    "    return p.sub('', data)\n",
    "\n",
    "remove_html_tags(x)"
   ]
  },
  {
   "cell_type": "code",
   "execution_count": 36,
   "metadata": {
    "collapsed": false,
    "scrolled": true
   },
   "outputs": [
    {
     "data": {
      "text/plain": [
       "'WASHINGTON --  On one thing, at least, both sides in the fierce debate over President Obama nuclear accord with Iran agree: He will go down in history because of it. The disagreement relates to how. As a peacemaker or an appeaser? For all of the focus on details like the number of centrifuges or the scope of inspections, the emerging battle represents a larger conflict of visions between Mr. Obama faith in diplomacy as the most rational way to resolve differences and his critics\\' deep skepticism over the wisdom of negotiating with what they see as an adversary that cannot be trusted. The Iran agreement, after all, is the culmination of an approach stemming from Mr. Obama first campaign for president, when he vowed to talk with America enemies, a promise that drew scorn not just from Republicans but even from his Democratic rival Hillary Rodham Clinton. Now, with the Iran deal in hand and the reopening of an embassy in Cuba this month, Mr. Obama is realizing that aspiration. This has become a season of diplomacy. At the same time he is securing pacts with Tehran and Havana, Mr. Obama hopes to work out a trade agreement with 11 Pacific Rim nations by the end of this month. European leaders have just negotiated at least a temporary economic accord with their Greek debtors. And the United States is trying to broker a global climate change agreement before a Paris summit meeting in December. Fatigued by the warfare of recent years, the world in effect is testing whether it can work out at least some of its problems at the bargaining table instead of the battlefield. For Mr. Obama, the flurry of negotiations offers a chance to leave behind accomplishments in a foreign policy arena that otherwise has been dominated by stalemated armed conflicts in the Middle East. \"Part of our goal here has been to show that diplomacy can work,\" Mr. Obama said in an interview with Thomas L. Friedman, a columnist for The New York Times. \"It doesn work perfectly. It doesn give us everything that we want.\" But, he added, \"what we can do is shape events in ways where it more likely that problems get solved, rather than less likely, and that the opportunity we have now.\" Still, there are many examples in which diplomacy did not achieve what it intended to, especially in cases where one of the parties has been less committed. An agreement reached by President Bill Clinton to constrain North Korea quest for nuclear weapons fell apart when the country was caught cheating. More recently, Russia joined not one but two agreements to bring peace to Ukraine, but the first collapsed and the second is widely expected to do the same as the West accuses Moscow of violating its terms. The United States also recently accused Russia of violating the Intermediate-Range Nuclear Forces Treaty, signed by President Ronald Reagan. With time in Mr. Obama presidency running short, critics said he had sacrificed conditions he previously embraced in the name of reaching any deal, with some even comparing it to Neville Chamberlain infamous Munich Agreement with Adolf Hitler in 1938. \"The analogies to Chamberlain are much too facile, but I do think at a certain moment he needed to stop and say to himself, \\'Why have I given on all of the things I said I wouldn give on?\\'\" said Danielle Pletka, a national security scholar at the conservative American Enterprise Institute. \"And the answer is because ultimately the deal itself became more important than what was in it.\" The divide over diplomacy was just as stark during the presidency of George W. Bush, but it played out inside his administration. \"We don negotiate with evil,\" Vice President Dick Cheney once said at a meeting. \"We defeat it.\" Secretary of State Condoleezza Rice wanted to try talking. Mr. Bush sided with the Cheney view in his first term while turning to the Rice approach in his second. Kristen Silverberg, an ambassador to the European Union under Mr. Bush, said most Republicans support diplomacy if backed by real pressure. \"Instead,\" she said, \"President Obama is sacrificing a decade worth of sanctions for a deal that grants Iran rights to a vast nuclear infrastructure. It part of his effort to pull the U.S. back from key challenges in the Middle East. It not diplomacy. It retreat.\" Others said critics were unrealistic in expecting a deal with no compromise. Among those supporting the agreement with Tehran this week was R. Nicholas Burns, the under secretary of state who led the Iran diplomatic effort for Mr. Bush and Ms. Rice. \"The opposition in this country to this deal is coming from people who do not support any deals except those that can be crafted only by one side, i.e. unconditional surrender,\" said Christopher R. Hill, a career diplomat who negotiated with North Korea for Mr. Bush and later served as Mr. Obama ambassador to Iraq. Mr. Obama maintains that sanctions alone could not force Iran to capitulate, and many nations would abandon sanctions if the United States walked away from an agreement. \"There really are only two alternatives here,\" he said at a news conference on Wednesday. \"Either the issue of Iran obtaining a nuclear weapon is resolved diplomatically through a negotiation, or it resolved through force, through war.\" Critics said that reveals a lack of imagination about other ways of increasing pressure, including more economic measures and covert action. Moreover, they called it a cynical effort to frame them as warmongers. \"Americans have been presented with a false choice: diplomacy or war,\" said Mark Wallace, the chief executive of United Against Nuclear Iran, an advocacy group, and another Bush ambassador. \"Some of my former colleagues in the diplomatic world suggest that we must put all our eggs in the diplomatic basket to the exclusion of the other tools,\" Mr. Wallace said. \"President Obama subscribes to this theory,\" he added, and in making clear \"that diplomacy was the only option\" emboldened Iran. Mr. Obama approach should come as no surprise. In a July 2007 debate, he was asked if would be willing to meet \"without precondition\" during his first year in office with the leaders of Cuba, Iran, North Korea, Syria and Venezuela. \"I would,\" he answered. It took longer than that but by his seventh year, he has met with President Raul Castro of Cuba, talked briefly on the phone with President Hassan Rouhani of Iran and sent letters to the Ayatollah Ali Khamenei. Still, he has stayed away from the others. Rather than meet with President Bashar al-Assad of Syria, Mr. Obama has called on him to step down, although he accepted a Russian-mediated deal with Mr. Assad to give up his chemical weapons. Mr. Obama has eschewed any diplomacy with North Korea, increasing sanctions instead, and likewise applied new measures against Venezuela. Efforts to engage in or support peace talks with the Taliban in Afghanistan have gained little traction. What distinguishes Mr. Obama is his willingness to see the situation from the other side position, a trait that tends to outrage domestic critics because the other side is generally viewed as loathsome. \"When we are able to see their country and their culture in specific terms, historical terms, as opposed to just applying a broad brush, that when you have the possibility at least of some movement,\" Mr. Obama told Mr. Friedman. The question now is whether it is movement in the right direction. He has gambled a lot that it is.'"
      ]
     },
     "execution_count": 36,
     "metadata": {},
     "output_type": "execute_result"
    }
   ],
   "source": [
    "#get body text\n",
    "html = requests.get(url).content\n",
    "soup = BeautifulSoup(html, 'html.parser')\n",
    "body = soup.find_all('p', class_= \"story-body-text story-content\")\n",
    "\n",
    "content = '\\n'.join([i.text for i in soup.select('p.story-body-text')])\n",
    "body_text = unidecode.unidecode(content).replace(\"\\n\",\" \").replace(\"\\'s\",\"\").replace(\"\\'t\",\"\")\n",
    "body_text"
   ]
  },
  {
   "cell_type": "code",
   "execution_count": 32,
   "metadata": {
    "collapsed": false
   },
   "outputs": [
    {
     "data": {
      "text/plain": [
       "'As a peacemaker or an appeaser? For all of the focus on details like the number of centrifuges or the scope of inspections'"
      ]
     },
     "execution_count": 32,
     "metadata": {},
     "output_type": "execute_result"
    }
   ],
   "source": [
    "text = 'As a peacemaker or an appeaser?\\nFor all of the focus on details like the number of centrifuges or the scope of inspections'\n",
    "text.replace('\\n', ' ')"
   ]
  },
  {
   "cell_type": "code",
   "execution_count": 37,
   "metadata": {
    "collapsed": true
   },
   "outputs": [],
   "source": [
    "def tokenize(doc):\n",
    "    return [snowball.stem(word) for word in word_tokenize(doc.lower())]"
   ]
  },
  {
   "cell_type": "code",
   "execution_count": 58,
   "metadata": {
    "collapsed": true
   },
   "outputs": [],
   "source": [
    "tfidfvect = TfidfVectorizer(stop_words='english', tokenizer=tokenize, max_features = 40)\n"
   ]
  },
  {
   "cell_type": "code",
   "execution_count": 60,
   "metadata": {
    "collapsed": false
   },
   "outputs": [
    {
     "ename": "ValueError",
     "evalue": "Incompatible dimension for X and Y matrices: X.shape[1] == 38 while Y.shape[1] == 31",
     "output_type": "error",
     "traceback": [
      "\u001b[0;31m---------------------------------------------------------------------------\u001b[0m",
      "\u001b[0;31mValueError\u001b[0m                                Traceback (most recent call last)",
      "\u001b[0;32m<ipython-input-60-1c784c748db0>\u001b[0m in \u001b[0;36m<module>\u001b[0;34m()\u001b[0m\n\u001b[1;32m      8\u001b[0m \u001b[0;32mfor\u001b[0m \u001b[0mdoc\u001b[0m \u001b[0;32min\u001b[0m \u001b[0mdocuments\u001b[0m\u001b[0;34m:\u001b[0m\u001b[0;34m\u001b[0m\u001b[0m\n\u001b[1;32m      9\u001b[0m     \u001b[0mtfidf_vectorized\u001b[0m \u001b[0;34m=\u001b[0m \u001b[0mtfidfvect\u001b[0m\u001b[0;34m.\u001b[0m\u001b[0mfit_transform\u001b[0m\u001b[0;34m(\u001b[0m\u001b[0mdoc\u001b[0m\u001b[0;34m)\u001b[0m\u001b[0;34m.\u001b[0m\u001b[0mtoarray\u001b[0m\u001b[0;34m(\u001b[0m\u001b[0;34m)\u001b[0m\u001b[0;34m\u001b[0m\u001b[0m\n\u001b[0;32m---> 10\u001b[0;31m     \u001b[0mcosine_similarities\u001b[0m\u001b[0;34m.\u001b[0m\u001b[0mappend\u001b[0m\u001b[0;34m(\u001b[0m\u001b[0mlinear_kernel\u001b[0m\u001b[0;34m(\u001b[0m\u001b[0mtfidf_vectorized_body\u001b[0m\u001b[0;34m,\u001b[0m \u001b[0mtfidf_vectorized\u001b[0m\u001b[0;34m)\u001b[0m\u001b[0;34m)\u001b[0m\u001b[0;34m\u001b[0m\u001b[0m\n\u001b[0m",
      "\u001b[0;32m/Users/datascientist/anaconda/lib/python2.7/site-packages/sklearn/metrics/pairwise.pyc\u001b[0m in \u001b[0;36mlinear_kernel\u001b[0;34m(X, Y)\u001b[0m\n\u001b[1;32m    674\u001b[0m     \u001b[0mGram\u001b[0m \u001b[0mmatrix\u001b[0m \u001b[0;34m:\u001b[0m \u001b[0marray\u001b[0m \u001b[0mof\u001b[0m \u001b[0mshape\u001b[0m \u001b[0;34m(\u001b[0m\u001b[0mn_samples_1\u001b[0m\u001b[0;34m,\u001b[0m \u001b[0mn_samples_2\u001b[0m\u001b[0;34m)\u001b[0m\u001b[0;34m\u001b[0m\u001b[0m\n\u001b[1;32m    675\u001b[0m     \"\"\"\n\u001b[0;32m--> 676\u001b[0;31m     \u001b[0mX\u001b[0m\u001b[0;34m,\u001b[0m \u001b[0mY\u001b[0m \u001b[0;34m=\u001b[0m \u001b[0mcheck_pairwise_arrays\u001b[0m\u001b[0;34m(\u001b[0m\u001b[0mX\u001b[0m\u001b[0;34m,\u001b[0m \u001b[0mY\u001b[0m\u001b[0;34m)\u001b[0m\u001b[0;34m\u001b[0m\u001b[0m\n\u001b[0m\u001b[1;32m    677\u001b[0m     \u001b[0;32mreturn\u001b[0m \u001b[0msafe_sparse_dot\u001b[0m\u001b[0;34m(\u001b[0m\u001b[0mX\u001b[0m\u001b[0;34m,\u001b[0m \u001b[0mY\u001b[0m\u001b[0;34m.\u001b[0m\u001b[0mT\u001b[0m\u001b[0;34m,\u001b[0m \u001b[0mdense_output\u001b[0m\u001b[0;34m=\u001b[0m\u001b[0mTrue\u001b[0m\u001b[0;34m)\u001b[0m\u001b[0;34m\u001b[0m\u001b[0m\n\u001b[1;32m    678\u001b[0m \u001b[0;34m\u001b[0m\u001b[0m\n",
      "\u001b[0;32m/Users/datascientist/anaconda/lib/python2.7/site-packages/sklearn/metrics/pairwise.pyc\u001b[0m in \u001b[0;36mcheck_pairwise_arrays\u001b[0;34m(X, Y)\u001b[0m\n\u001b[1;32m     94\u001b[0m         raise ValueError(\"Incompatible dimension for X and Y matrices: \"\n\u001b[1;32m     95\u001b[0m                          \"X.shape[1] == %d while Y.shape[1] == %d\" % (\n\u001b[0;32m---> 96\u001b[0;31m                              X.shape[1], Y.shape[1]))\n\u001b[0m\u001b[1;32m     97\u001b[0m \u001b[0;34m\u001b[0m\u001b[0m\n\u001b[1;32m     98\u001b[0m     \u001b[0;32mreturn\u001b[0m \u001b[0mX\u001b[0m\u001b[0;34m,\u001b[0m \u001b[0mY\u001b[0m\u001b[0;34m\u001b[0m\u001b[0m\n",
      "\u001b[0;31mValueError\u001b[0m: Incompatible dimension for X and Y matrices: X.shape[1] == 38 while Y.shape[1] == 31"
     ]
    }
   ],
   "source": [
    "documents = table['Comment']\n",
    "# vect = CountVectorizer(stop_words='english')\n",
    "# word_counts = vect.fit_transform(documents)\n",
    "tfidf_vectorized_body = tfidfvect.fit_transform(body_text).toarray()\n",
    "\n",
    "cosine_similarities = []\n",
    "\n",
    "for doc in documents:\n",
    "    tfidf_vectorized = tfidfvect.fit_transform(doc).toarray()\n",
    "    cosine_similarities.append(linear_kernel(tfidf_vectorized_body, tfidf_vectorized))"
   ]
  },
  {
   "cell_type": "code",
   "execution_count": 53,
   "metadata": {
    "collapsed": false
   },
   "outputs": [
    {
     "data": {
      "text/plain": [
       "7424"
      ]
     },
     "execution_count": 53,
     "metadata": {},
     "output_type": "execute_result"
    }
   ],
   "source": [
    "for i in range(tfidf_vectorized_body.shape[0]):"
   ]
  },
  {
   "cell_type": "code",
   "execution_count": 54,
   "metadata": {
    "collapsed": false
   },
   "outputs": [
    {
     "data": {
      "text/plain": [
       "38"
      ]
     },
     "execution_count": 54,
     "metadata": {},
     "output_type": "execute_result"
    }
   ],
   "source": [
    "tfidf_vectorized_body.shape[1]"
   ]
  },
  {
   "cell_type": "code",
   "execution_count": null,
   "metadata": {
    "collapsed": true
   },
   "outputs": [],
   "source": [
    "\n",
    "\n"
   ]
  },
  {
   "cell_type": "code",
   "execution_count": null,
   "metadata": {
    "collapsed": true
   },
   "outputs": [],
   "source": []
  }
 ],
 "metadata": {
  "kernelspec": {
   "display_name": "Python 2",
   "language": "python",
   "name": "python2"
  },
  "language_info": {
   "codemirror_mode": {
    "name": "ipython",
    "version": 2
   },
   "file_extension": ".py",
   "mimetype": "text/x-python",
   "name": "python",
   "nbconvert_exporter": "python",
   "pygments_lexer": "ipython2",
   "version": "2.7.10"
  }
 },
 "nbformat": 4,
 "nbformat_minor": 0
}
