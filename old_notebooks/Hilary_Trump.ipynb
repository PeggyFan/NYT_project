{
 "cells": [
  {
   "cell_type": "code",
   "execution_count": 23,
   "metadata": {
    "collapsed": false
   },
   "outputs": [],
   "source": [
    "# f = open('url_addresses_hilary', 'r')\n",
    "# url_addresses = f.readlines()\n",
    "# test_url = url_addresses[5]\n",
    "# print test_url\n",
    "#with open('url_addresses_hilary','w') as f:\n",
    "#     for i in links:\n",
    "#         f.read(str(i['web_url'] + '\\n'))"
   ]
  },
  {
   "cell_type": "code",
   "execution_count": 1,
   "metadata": {
    "collapsed": false
   },
   "outputs": [
    {
     "ename": "ImportError",
     "evalue": "cannot import name WriteError",
     "output_type": "error",
     "traceback": [
      "\u001b[0;31m---------------------------------------------------------------------------\u001b[0m",
      "\u001b[0;31mImportError\u001b[0m                               Traceback (most recent call last)",
      "\u001b[0;32m<ipython-input-1-deee01407433>\u001b[0m in \u001b[0;36m<module>\u001b[0;34m()\u001b[0m\n\u001b[1;32m      6\u001b[0m \u001b[0;32mimport\u001b[0m \u001b[0mbs4\u001b[0m\u001b[0;34m\u001b[0m\u001b[0m\n\u001b[1;32m      7\u001b[0m \u001b[0;32mimport\u001b[0m \u001b[0mjson\u001b[0m\u001b[0;34m\u001b[0m\u001b[0m\n\u001b[0;32m----> 8\u001b[0;31m \u001b[0;32mfrom\u001b[0m \u001b[0mpymongo\u001b[0m\u001b[0;34m.\u001b[0m\u001b[0merrors\u001b[0m \u001b[0;32mimport\u001b[0m \u001b[0mDuplicateKeyError\u001b[0m\u001b[0;34m,\u001b[0m \u001b[0mCollectionInvalid\u001b[0m\u001b[0;34m,\u001b[0m \u001b[0mWriteError\u001b[0m\u001b[0;34m\u001b[0m\u001b[0m\n\u001b[0m\u001b[1;32m      9\u001b[0m \u001b[0;32mfrom\u001b[0m \u001b[0mpymongo\u001b[0m \u001b[0;32mimport\u001b[0m \u001b[0mMongoClient\u001b[0m\u001b[0;34m\u001b[0m\u001b[0m\n\u001b[1;32m     10\u001b[0m \u001b[0;31m#import datetime as dt\u001b[0m\u001b[0;34m\u001b[0m\u001b[0;34m\u001b[0m\u001b[0m\n",
      "\u001b[0;31mImportError\u001b[0m: cannot import name WriteError"
     ]
    }
   ],
   "source": [
    "import pandas as pd\n",
    "import requests\n",
    "import numpy as np\n",
    "import time\n",
    "import requests\n",
    "import bs4\n",
    "import json\n",
    "from pymongo.errors import DuplicateKeyError, CollectionInvalid, WriteError\n",
    "from pymongo import MongoClient\n",
    "#import datetime as dt"
   ]
  },
  {
   "cell_type": "code",
   "execution_count": 4,
   "metadata": {
    "collapsed": false
   },
   "outputs": [
    {
     "data": {
      "text/plain": [
       "ObjectId('5601c4211f80b442510d1cb7')"
      ]
     },
     "execution_count": 4,
     "metadata": {},
     "output_type": "execute_result"
    }
   ],
   "source": [
    "client = MongoClient()\n",
    "# Initiate Database\n",
    "db = client['nyt_articles']\n",
    "# Initiate Table\n",
    "tab = db['table_hilary2']\n",
    "tab.insert({'hilary': 'cool'})\n",
    "#tab_trump = db['table_trump']\n",
    "# tab_trump.insert({'trump': 'not cool'})"
   ]
  },
  {
   "cell_type": "code",
   "execution_count": 3,
   "metadata": {
    "collapsed": false
   },
   "outputs": [
    {
     "data": {
      "text/plain": [
       "ObjectId('5601876c1f80b4d992902029')"
      ]
     },
     "execution_count": 3,
     "metadata": {},
     "output_type": "execute_result"
    }
   ],
   "source": [
    "db_comments = client['nyt_comments']\n",
    "\n",
    "tab = db_comments['hilary_table']\n",
    "#db_comments.tab.insert({'hilary': 'cool'})\n",
    "\n",
    "tab_trump = db_comments['trump_table']\n",
    "db_comments.tab_trump.insert({'hilary': 'cool'})"
   ]
  },
  {
   "cell_type": "markdown",
   "metadata": {},
   "source": [
    "### USING A PYTHON API WRAPPER FOR ARTICLE SEARCH"
   ]
  },
  {
   "cell_type": "code",
   "execution_count": 27,
   "metadata": {
    "collapsed": true
   },
   "outputs": [],
   "source": [
    "# from nytimesarticle import articleAPI\n",
    "# api = articleAPI('74c73309c1052e6aa1785df7cd5cef8c:9:69947183')"
   ]
  },
  {
   "cell_type": "code",
   "execution_count": 82,
   "metadata": {
    "collapsed": false
   },
   "outputs": [],
   "source": [
    "##Articles search\n",
    "\n",
    "# for i in range(1000):\n",
    "#     articles = api.search(q = 'Hilary Clinton', page = i)\n",
    "#     time.sleep(0.)\n",
    "#     for y in range(len(articles['response']['docs'])):\n",
    "#         new_data = articles['response']['docs'][y]\n",
    "#         new_data['_id'] = articles['response']['docs'][y]['_id']\n",
    "#         try:\n",
    "#             db.table_hilary.insert(new_data)\n",
    "#         except DuplicateKeyError:\n",
    "#             print 'Peggy doesnt know why its a duplicate!! :((('"
   ]
  },
  {
   "cell_type": "code",
   "execution_count": 5,
   "metadata": {
    "collapsed": true
   },
   "outputs": [],
   "source": [
    "NYT_URL = 'http://api.nytimes.com/svc/search/v2/articlesearch.json'\n",
    "API_KEY = '74c73309c1052e6aa1785df7cd5cef8c:9:69947183'"
   ]
  },
  {
   "cell_type": "code",
   "execution_count": 2,
   "metadata": {
    "collapsed": true
   },
   "outputs": [],
   "source": [
    "def single_query(link, payload):\n",
    "    response = requests.get(link, params=payload)\n",
    "    if response.status_code != 200:\n",
    "        print 'WARNING', response.status_code\n",
    "    else:\n",
    "        return response.json()"
   ]
  },
  {
   "cell_type": "code",
   "execution_count": 7,
   "metadata": {
    "collapsed": true
   },
   "outputs": [],
   "source": [
    "# Query the NYT API once\n",
    "def single_query(link, payload):\n",
    "    response = requests.get(link, params=payload)\n",
    "    if response.status_code != 200:\n",
    "        print 'WARNING', response.status_code\n",
    "    else:\n",
    "        return response.json()\n",
    "\n",
    "# Determine if the results are more than 100 pages\n",
    "def more_than_100_pages(total_page):\n",
    "    if total_page > 100:\n",
    "        pages_left = min(total_page - 100, 100)\n",
    "        return 100, pages_left, True\n",
    "    else:\n",
    "        return total_page, 0, False\n",
    "\n",
    "# Looping through the pages give the number of pages\n",
    "def loop_through_pages(total_pages, link, payload, table):\n",
    "    for i in range(total_pages):\n",
    "        if i % 50 == 0:\n",
    "            print ' || Page ', i\n",
    "        payload['page'] = str(i)\n",
    "        content = single_query(link, payload)\n",
    "        meta_lst = content['response']['docs']\n",
    "\n",
    "        for meta in meta_lst:\n",
    "            try:\n",
    "                table.insert(meta)\n",
    "            except DuplicateKeyError:\n",
    "                print 'DUPS!'\n",
    "\n",
    "\n",
    "# Scrape the meta data (link to article and put it into Mongo)\n",
    "def scrape_meta(days=1):\n",
    "\n",
    "    # The basic parameters for the NYT API\n",
    "    link = NYT_URL\n",
    "    payload = {'api-key': API_KEY, 'q' : 'Rodham Clinton'}\n",
    "\n",
    "    today = dt.datetime(2015, 9, 22)\n",
    "    yesterday = dt.datetime(2003, 9, 22)\n",
    "    \n",
    "    for day in range(days):\n",
    "        payload['end_date'] = today.strftime(\"%Y%m%d\")\n",
    "        #yesterday = dt.date.today() - dt.timedelta(1)\n",
    "        half_day = today - dt.timedelta(hours=12)\n",
    "        payload['begin_date'] = yesterday.strftime(\"%Y%m%d\")\n",
    "        print payload\n",
    "        print 'Scraping period: %s - %s ' % (str(yesterday), str(today))\n",
    "\n",
    "        today -= dt.timedelta(days=2)\n",
    "        \n",
    "        content = single_query(link, payload)\n",
    "        hits = content['response']['meta']['hits']\n",
    "        total_pages = (hits / 10) + 1\n",
    "        print 'HITS', hits\n",
    "\n",
    "        newest_sort_pages, oldest_sort_pages, grt_100 = more_than_100_pages(total_pages)\n",
    "\n",
    "        if grt_100:\n",
    "            new_payload = payload.copy()\n",
    "            old_payload = payload.copy()\n",
    "            new_payload['sort']= 'newest'\n",
    "            old_payload['sort'] = 'oldest'\n",
    "\n",
    "        loop_through_pages(newest_sort_pages, link, new_payload, db.table_hilary2)\n",
    "        loop_through_pages(oldest_sort_pages, link, old_payload, db.table_hilary2)"
   ]
  },
  {
   "cell_type": "code",
   "execution_count": 8,
   "metadata": {
    "collapsed": false
   },
   "outputs": [
    {
     "name": "stdout",
     "output_type": "stream",
     "text": [
      "{'q': 'Rodham Clinton', 'begin_date': '20030922', 'api-key': '74c73309c1052e6aa1785df7cd5cef8c:9:69947183', 'end_date': '20150922'}\n",
      "Scraping period: 2003-09-22 00:00:00 - 2015-09-22 00:00:00 \n",
      "HITS 17491\n",
      " || Page  0\n",
      " || Page  50\n",
      " || Page  0\n",
      " || Page  50\n",
      "DUPS!\n"
     ]
    }
   ],
   "source": [
    "scrape_meta(days=1)"
   ]
  },
  {
   "cell_type": "markdown",
   "metadata": {},
   "source": [
    "### GRABBING ALL URLS FROM THE ARTICLES DATABASE"
   ]
  },
  {
   "cell_type": "code",
   "execution_count": 88,
   "metadata": {
    "collapsed": false
   },
   "outputs": [
    {
     "data": {
      "text/plain": [
       "1999"
      ]
     },
     "execution_count": 88,
     "metadata": {},
     "output_type": "execute_result"
    }
   ],
   "source": [
    "links = db.table_hilary.find({},{'web_url': 1, '_id' : 0})\n",
    "links_h = []\n",
    "for i in links:\n",
    "    links_h.append(str(i['web_url']))\n",
    "len(links_h)"
   ]
  },
  {
   "cell_type": "markdown",
   "metadata": {},
   "source": [
    "### QUERY COMMENTS BY EACH URL IN THE LIST"
   ]
  },
  {
   "cell_type": "code",
   "execution_count": 91,
   "metadata": {
    "collapsed": false
   },
   "outputs": [],
   "source": [
    "for url in links_h:\n",
    "    print url\n",
    "    link = \"http://api.nytimes.com/svc/community/v3/user-content/url.json?url=\" + url\n",
    "    payload = {'api-key': '603ff640088f24876c37e2857d83401f:1:73015248'}     \n",
    "    content = single_query(link, payload)\n",
    "    total = content['results']['totalCommentsFound'] \n",
    "    if total == 0:\n",
    "        pass\n",
    "    else:\n",
    "        count = ((total/25) + 2)*25\n",
    "        num_pages = list(np.arange(0, count, 25))  \n",
    "            \n",
    "        for i in num_pages:\n",
    "            link = \"http://api.nytimes.com/svc/community/v3/user-content/url.json?url=\" + url\n",
    "            payload = {'api-key': '60a3f7d54baade3ed03a40bdb5f5e866:3:50984754', 'offset' : i}\n",
    "            for y in range(len(content['results']['comments'])): \n",
    "                new_data = content['results']['comments'][y]\n",
    "                new_data['web_url'] = url\n",
    "                new_data['_id'] = content['results']['comments'][y]['commentID']\n",
    "                try:\n",
    "                    db_comments.tab.insert(new_data)\n",
    "                except DuplicateKeyError:\n",
    "                    print 'Peggy doesnt know why its a duplicate.'\n",
    "                    pass"
   ]
  },
  {
   "cell_type": "markdown",
   "metadata": {},
   "source": [
    "### EXAMPLE "
   ]
  },
  {
   "cell_type": "code",
   "execution_count": 51,
   "metadata": {
    "collapsed": false
   },
   "outputs": [
    {
     "name": "stdout",
     "output_type": "stream",
     "text": [
      "25\n",
      "{u'debug': {u'version': 3.1}, u'status': u'OK', u'results': {u'totalParentCommentsFound': 310, u'sort': u'newest', u'totalCommentsFound': 471, u'depthLimit': 0, u'callerID': None, u'totalRecommendationsReturned': 10, u'comments': [{u'recommendedFlag': None, u'parentID': None, u'replies': [], u'commentID': 15512453, u'trusted': 0, u'userDisplayName': u'Cogito', u'createDate': u'1437099567', u'userID': 33159236, u'replyCount': 0, u'commentTitle': u'<br/>', u'status': u'approved', u'sharing': 0, u'approveDate': u'1437107733', u'userTitle': u'NULL', u'recommendations': 0, u'permID': u'15512453', u'picURL': u'http://graphics8.nytimes.com/images/apps/timespeople/none.png', u'editorsSelection': False, u'parentUserDisplayName': None, u'timespeople': 1, u'userURL': u'NULL', u'userLocation': u'State of Mind', u'depth': 1, u'commentType': u'comment', u'updateDate': u'1437107733', u'commentSequence': 15512453, u'reportAbuseFlag': None, u'commentBody': u\"Obama and the Democrats need to remind the public, forcefully and repeatedly, that we were LIED into an unnecessary and bloody war by a Republican administration, and that the current crop of Republicans are war-mongers bent on starting yet ANOTHER WAR, because that is clearly the alternative to this diplomatic deal.<br/>   To not use this argument, which is both effective and true, would display a disconcerting lack of brain-power in the Democratic establishment. Bad enough to have one major party brain-dead!<br/>   True, the general electorate is also stuporous, with a memory span of about 2 weeks. A decided advantage for a party of liars and history re-writers.<br/>   Nonetheless:  C'mon, Dems! Hang the warmonger albatross around deserving Republican necks!\"}, {u'recommendedFlag': None, u'parentID': None, u'replies': [], u'commentID': 15508100, u'trusted': 0, u'userDisplayName': u'Wayne', u'createDate': u'1437067064', u'userID': 61613043, u'replyCount': 0, u'commentTitle': u'<br/>', u'status': u'approved', u'sharing': 0, u'approveDate': u'1437068404', u'userTitle': u'NULL', u'recommendations': 1, u'permID': u'15508100', u'picURL': u'http://graphics8.nytimes.com/images/apps/timespeople/none.png', u'editorsSelection': False, u'parentUserDisplayName': None, u'timespeople': 1, u'userURL': u'NULL', u'userLocation': u'Lake Conroe, Tx', u'depth': 1, u'commentType': u'comment', u'updateDate': u'1437068404', u'commentSequence': 15508100, u'reportAbuseFlag': None, u'commentBody': u'Iran realizes that having a bomb is really not important. Against what Israel has, they would be totally devastated if they ever used one. Iran is far more interested in the economic aspects. Why is Israel opposed? They are interested in maintaining the status quo in the Middle East. As long as the Shias and Shites<br/>are fighting each other, Israel is ignored. Anything that helps the Iranians, they will oppose. Why are the Republicans opposed? Pretty simple, follow the money. The military industrial complex benefits from our war mongering.   '}, {u'recommendedFlag': None, u'parentID': None, u'replies': [], u'commentID': 15507940, u'trusted': 0, u'userDisplayName': u'Wayne', u'createDate': u'1437066116', u'userID': 61613043, u'replyCount': 0, u'commentTitle': u'<br/>', u'status': u'approved', u'sharing': 0, u'approveDate': u'1437068401', u'userTitle': u'NULL', u'recommendations': 1, u'permID': u'15507940', u'picURL': u'http://graphics8.nytimes.com/images/apps/timespeople/none.png', u'editorsSelection': False, u'parentUserDisplayName': None, u'timespeople': 1, u'userURL': u'NULL', u'userLocation': u'Lake Conroe, Tx', u'depth': 1, u'commentType': u'comment', u'updateDate': u'1437068401', u'commentSequence': 15507940, u'reportAbuseFlag': None, u'commentBody': u'After listening on C-Span to the nuclear experts, I am convinced that objections to the \"deal\\' from a scientific basis are groundless. Weapons grade plutonium and other alternatives leave traces for literally millions of years. Simply moving \"stuff\" to another location won\\'t remove it without a trace. The experts indicated that they are very confident that they would detect any covert action. They also explained that the entire supply line for a nuclear bomb would be under scrutiny as well.  '}, {u'recommendedFlag': None, u'parentID': None, u'replies': [], u'commentID': 15507516, u'trusted': 0, u'userDisplayName': u'jiujitsu', u'createDate': u'1437063669', u'userID': 20038339, u'replyCount': 0, u'commentTitle': u'<br/>', u'status': u'approved', u'sharing': 0, u'approveDate': u'1437068399', u'userTitle': u'NULL', u'recommendations': 0, u'permID': u'15507516', u'picURL': u'http://graphics8.nytimes.com/images/apps/timespeople/none.png', u'editorsSelection': True, u'parentUserDisplayName': None, u'timespeople': 1, u'userURL': u'NULL', u'userLocation': u'United States', u'depth': 1, u'commentType': u'comment', u'updateDate': u'1437068399', u'commentSequence': 15507516, u'reportAbuseFlag': None, u'commentBody': u'The key question is.  How effective are the measures (inspections etc.) included to monitor and stop Iranian nuclear weapons development?  I don\\'t see this being discussed in detail.   If they are not sufficient (and my impression is that they may not be nearly sufficient) then this deal is meaningless in terms of its claimed intended goal.  On the other hand, one can always hope that the lifting of sanctions will lead to better relations with Iran and foster (eventally) the long-awaited moderation of the Iranian government. Hopefully the inspection measures and agreements wiil be sufficient to delay their development until such time as the Iranian government \"changes its tune\" with respect to the West. '}, {u'recommendedFlag': None, u'parentID': None, u'replies': [], u'commentID': 15506021, u'trusted': 0, u'userDisplayName': u'George Xanich', u'createDate': u'1437054921', u'userID': 60835235, u'replyCount': 0, u'commentTitle': u'<br/>', u'status': u'approved', u'sharing': 1, u'approveDate': u'1437068385', u'userTitle': u'NULL', u'recommendations': 1, u'permID': u'15506021', u'picURL': u'http://pimage.timespeople.nytimes.com/6083/5235/cropped-60835235.jpg?0.325364368970153', u'editorsSelection': False, u'parentUserDisplayName': None, u'timespeople': 1, u'userURL': u'NULL', u'userLocation': u'Bethel, Maine', u'depth': 1, u'commentType': u'comment', u'updateDate': u'1437068385', u'commentSequence': 15506021, u'reportAbuseFlag': None, u'commentBody': u'The reality, Iran is and will continue to be a major power in the region.  The U.S. policy of invasion and occupation has proven disastrous.  For all the criticism of this deal what was the alternative? The present day Iran is not the same Iran of 30 years ago and hopefully, through international prodding and internal societal adjustment by the Iranian people, Iran might be a country that is more accepting of western values and less theocratic.  The deal works both ways and it is a leap of faith for both sides (US and Iran). Yes Israel and Arab states should be concerned but it must also realize the current US approach in the region has made these countries more than less vulnerable.  The deal is a viable alternative to the US adventurism in the region and the countless lives lost and ruined by the Iraq and Afghanistan invasions.'}, {u'recommendedFlag': None, u'parentID': None, u'replies': [], u'commentID': 15505138, u'trusted': 0, u'userDisplayName': u'Shalom Freedman', u'createDate': u'1437048836', u'userID': 38196195, u'replyCount': 0, u'commentTitle': u'<br/>', u'status': u'approved', u'sharing': 1, u'approveDate': u'1437068378', u'userTitle': u'NULL', u'recommendations': 0, u'permID': u'15505138', u'picURL': u'http://pimage.timespeople.nytimes.com/3819/6195/cropped-38196195.jpg?967385784869672893', u'editorsSelection': False, u'parentUserDisplayName': None, u'timespeople': 1, u'userURL': u'NULL', u'userLocation': u'Jerusalem Israel', u'depth': 1, u'commentType': u'comment', u'updateDate': u'1437068378', u'commentSequence': 15505138, u'reportAbuseFlag': None, u'commentBody': u'President Obama has promised Iran that in ten years it will be free to have a vast nuclear infrastructure and nuclear weapons.<br/>This alone is enough to show the deal to be mistaken.<br/>President Obama may not be in office in ten years but there will then be someone else facing an Iran with this  infrastructure.<br/>PS A personal note. I live in Israel. President Obama paid and pays no attention to an Iranian regime which says its first priority is destroying the Jewish state. There is no other state so threatened in this way. At the very moment the Iranians were proclaiming aloud their evil intention this deal was signed.<br/>Where is  morality? decency? even the slightest bit of standing against such evil\"<br/>Aren\\'t four million refugees from Syria caused by Iran\\'s surrogate Syria enough? Does Iran need to be strengthened with billions of dollars for promoting its program for Middle East domination?<br/>This  is even worse than non- resisting Evil it is encouraging and promoting it.'}, {u'recommendedFlag': None, u'parentID': None, u'replies': [], u'commentID': 15504651, u'trusted': 0, u'userDisplayName': u'gm', u'createDate': u'1437044687', u'userID': 34884971, u'replyCount': 0, u'commentTitle': u'<br/>', u'status': u'approved', u'sharing': 0, u'approveDate': u'1437067862', u'userTitle': u'NULL', u'recommendations': 1, u'permID': u'15504651', u'picURL': u'http://graphics8.nytimes.com/images/apps/timespeople/none.png', u'editorsSelection': False, u'parentUserDisplayName': None, u'timespeople': 1, u'userURL': u'NULL', u'userLocation': u'syracuse area', u'depth': 1, u'commentType': u'comment', u'updateDate': u'1437067862', u'commentSequence': 15504651, u'reportAbuseFlag': None, u'commentBody': u\"I don't see any appeasement in this deal as the procedures are firmly in place to re institute the sanctions with a majority vote of a special panel that could avoid any veto attempts by Russia or China. The failed attempt at diplomacy was rectified by either re instituting or keeping in place sanctions. But at least their was an attempt to resolve the situation. As has been said this is not any more controversial than the Reagan overture with<br/>Russia regarding nuclear arms or Nixon's opening up of relations with China. Just think how much more acrimonious our relationship with China would be without the  relationship that openly discusses our differences.    \"}, {u'recommendedFlag': None, u'parentID': None, u'replies': [], u'commentID': 15503874, u'trusted': 0, u'userDisplayName': u'Jeremy Eliot', u'createDate': u'1437025035', u'userID': 66701038, u'replyCount': 0, u'commentTitle': u'<br/>', u'status': u'approved', u'sharing': 0, u'approveDate': u'1437067847', u'userTitle': u'NULL', u'recommendations': 0, u'permID': u'15503874', u'picURL': u'http://graphics8.nytimes.com/images/apps/timespeople/none.png', u'editorsSelection': False, u'parentUserDisplayName': None, u'timespeople': 1, u'userURL': u'NULL', u'userLocation': u'Chicago', u'depth': 1, u'commentType': u'comment', u'updateDate': u'1437067847', u'commentSequence': 15503874, u'reportAbuseFlag': None, u'commentBody': u'For the first time in all of our history as a nation, we, the USA will have to put our faith in other nations to see to it that our Defence is not compromised !! Iran, has , time and again, declared, it considers the USA an enemy which must be defeted. The USA has no diplomatice ties with Iran... Burining the American flag and chanting \"death to America\" are common practice in Iran. The agreement sigend prohibits countires with no diplomatica ties to Iran to inspect its nuclear operations... so...  Our President , Mr. Hussain B. Obama has acheved a \"spactacular\" deal : Our National Security is now in the hands of China and Russia. '}, {u'recommendedFlag': None, u'parentID': None, u'replies': [], u'commentID': 15502522, u'trusted': 0, u'userDisplayName': u'Paul Ogden', u'createDate': u'1437008003', u'userID': 72273001, u'replyCount': 0, u'commentTitle': u'<br/>', u'status': u'approved', u'sharing': 0, u'approveDate': u'1437008174', u'userTitle': u'NULL', u'recommendations': 1, u'permID': u'15502522', u'picURL': u'http://graphics8.nytimes.com/images/apps/timespeople/none.png', u'editorsSelection': False, u'parentUserDisplayName': None, u'timespeople': 1, u'userURL': u'NULL', u'userLocation': u'Provo, Utah', u'depth': 1, u'commentType': u'comment', u'updateDate': u'1437008174', u'commentSequence': 15502522, u'reportAbuseFlag': None, u'commentBody': u'Two glaring facts seem to be lumped under the carpet: First, Iranian Muslim leaders and government officials hate Israel, the West and America in particular. They have openly declared this many times and often with violence in their words. Secondly we have a president who, under the camouflage of social media and feigned transparency, is unaccountable. That is to say that his fluency in spin and guile are easily dismissed by media and gullible followers. How can we support decisions made regarding Iran\\'s nuclear future with those two elements discounted or dismissed? It is one thing to say that we distrust the Iranian government and to pity their partially innocent public, but we cannot say that we believe in Obama\\'s belief in Iran if he is also looking for more \"legacy\" for his legacy at the same time. I see a real conflict of interest here underneath the larger issues of Iran\\'s cultural hatred for free countries.'}, {u'recommendedFlag': None, u'parentID': None, u'replies': [], u'commentID': 15502439, u'trusted': 0, u'userDisplayName': u'Hombre3048', u'createDate': u'1437007167', u'userID': 59828531, u'replyCount': 0, u'commentTitle': u'<br/>', u'status': u'approved', u'sharing': 1, u'approveDate': u'1437008174', u'userTitle': u'NULL', u'recommendations': 4, u'permID': u'15502439', u'picURL': u'http://pimage.timespeople.nytimes.com/5982/8531/cropped-59828531.jpg?0.8422855345347445', u'editorsSelection': False, u'parentUserDisplayName': None, u'timespeople': 1, u'userURL': u'NULL', u'userLocation': u'Pittsburgh, PA', u'depth': 1, u'commentType': u'comment', u'updateDate': u'1437008174', u'commentSequence': 15502439, u'reportAbuseFlag': None, u'commentBody': u'In the absence of honest skepticism let alone honest opposition, I am resolutely in favor of this agreement. If reactionary Republicans or dastardly Democrats seek to sabotage it, they had better be willing to be held to account for the death, maiming, and trauma of many Americans and millions of Iranians. <br/><br/>Thus far, all I have seen or heard from the opposition is talking points, alarmist rhetoric, and outright lies.'}, {u'recommendedFlag': None, u'parentID': None, u'replies': [], u'commentID': 15502179, u'trusted': 0, u'userDisplayName': u'MR', u'createDate': u'1437004423', u'userID': 64697498, u'replyCount': 0, u'commentTitle': u'<br/>', u'status': u'approved', u'sharing': 0, u'approveDate': u'1437008174', u'userTitle': u'NULL', u'recommendations': 6, u'permID': u'15502179', u'picURL': u'http://graphics8.nytimes.com/images/apps/timespeople/none.png', u'editorsSelection': False, u'parentUserDisplayName': None, u'timespeople': 1, u'userURL': u'NULL', u'userLocation': u'Illinois', u'depth': 1, u'commentType': u'comment', u'updateDate': u'1437008174', u'commentSequence': 15502179, u'reportAbuseFlag': None, u'commentBody': u\"Netanyahu and his posse of Republicans (marching in lock-step) were waiting in their stalls like a group of race horses waiting for the starting gun...complaints and disagreements in hand....elbowing each other for a good place on the television news shows to spew their hatred for peaceful negotiations with Iran. What REALLY took the cake was seeing Netanyahu, himself, on U.S. television demeaning our President and Secretary of State's efforts to obtain the beginning of a resolution regarding nuclear weapon dangers in the Middle East. WHEN is someone going to tell him his behavior is despicable and inappropriate ?? I had to switch channels more than once to remove his face. SERIOUSLY, who is running this country ??\"}, {u'recommendedFlag': None, u'parentID': None, u'replies': [{u'recommendedFlag': None, u'parentID': 15502074, u'replies': [], u'commentID': 15502970, u'trusted': 0, u'userDisplayName': u'steve', u'createDate': u'1437013132', u'userID': 51468090, u'replyCount': 0, u'commentTitle': u'n/a', u'status': u'approved', u'sharing': 0, u'approveDate': u'1437067831', u'userTitle': u'NULL', u'recommendations': 2, u'permID': u'15502074:15502970', u'picURL': u'http://graphics8.nytimes.com/images/apps/timespeople/none.png', u'editorsSelection': False, u'parentUserDisplayName': u'Grossness54', u'timespeople': 1, u'userURL': u'NULL', u'userLocation': u'santa cruz, ca.', u'depth': 2, u'commentType': u'userReply', u'updateDate': u'1437067831', u'commentSequence': 15502970, u'reportAbuseFlag': None, u'commentBody': u'Here\\'s the thing, Grossness54, while your assessment of the Islamic Republic of Iran\\'s human rights record may well be right (in fact, I agree with it), it will always be true that we don\\'t have to struggle to come to a meeting of the minds with bosom buddies. We use diplomacy rather than go to war. And war simply won\\'t get us what we want in this instance. Even Iraq turned out to be more than we could chew. Iran is much bigger, stronger and more populous.<br/>As for trust, I remind you that it was WE (together with the Brits) who betrayed the Iranians by illegally overthrowing the democratically elected government of Mohammed Mossadegh in 1953 for no better reason than that he\\'d had the temerity to nationalize \"our\" (actually their) oil.<br/>Saddam Hussein, thinking that it was going to be easy, invaded Iran in 1980 so as to rip off some of their territory. We helped him, and a million Iranians died.<br/>And as for nuclear weapons, just who exactly opened that Pandora\\'s box?<br/>Even if you limit the discussion to nuclear weapons in the -- roughly speaking -- Middle East, we didn\\'t say s**t when the Pakistanis were going for them OR when the Israelis were. If the Israelis have a right to them so does everybody else in the neighborhood -- or do you think they\\'re special?<br/>I have an idea, let\\'s go for world-wide nuclear disarmament -- oh right, that\\'s unthinkable for us, we\\'re special.'}], u'commentID': 15502074, u'trusted': 0, u'userDisplayName': u'Grossness54', u'createDate': u'1437003457', u'userID': 33647677, u'replyCount': 1, u'commentTitle': u'<br/>', u'status': u'approved', u'sharing': 0, u'approveDate': u'1437008174', u'userTitle': u'NULL', u'recommendations': 0, u'permID': u'15502074', u'picURL': u'http://graphics8.nytimes.com/images/apps/timespeople/none.png', u'editorsSelection': False, u'parentUserDisplayName': None, u'timespeople': 1, u'userURL': u'NULL', u'userLocation': u'West Palm Beach, FL', u'depth': 1, u'commentType': u'comment', u'updateDate': u'1437008174', u'commentSequence': 15502074, u'reportAbuseFlag': None, u'commentBody': u\"Skepticism? Here's a challenge - find ONE thing that could be considered peaceful or constructive - let alone even remotely respectful of the most basic human rights - that was done by the government of the Islamic Republic of Iran.<br/>I hate to tell you, but you might have a much easier time finding out about the last time it snowed in Miami since they started keeping records. At least THAT rather freakish event DID happen - once in January of 1977, though the total accumulation was recorded as 'Trace'. (A few people were wondering if they had dandruff on their shoulders, until they looked up But they had to be pretty quick to catch it, since it lasted less than an hour.)<br/>Jes sayin', as we say down heah in the South.\"}, {u'recommendedFlag': None, u'parentID': None, u'replies': [], u'commentID': 15501752, u'trusted': 0, u'userDisplayName': u'Umar', u'createDate': u'1437000272', u'userID': 62809512, u'replyCount': 0, u'commentTitle': u'<br/>', u'status': u'approved', u'sharing': 0, u'approveDate': u'1437002017', u'userTitle': u'NULL', u'recommendations': 2, u'permID': u'15501752', u'picURL': u'http://graphics8.nytimes.com/images/apps/timespeople/none.png', u'editorsSelection': False, u'parentUserDisplayName': None, u'timespeople': 1, u'userURL': u'NULL', u'userLocation': u'New York', u'depth': 1, u'commentType': u'comment', u'updateDate': u'1437002017', u'commentSequence': 15501752, u'reportAbuseFlag': None, u'commentBody': u\"The Neo-cons and Republicans may still have their war...if Iran doesn't live up to its end of the bargain.<br/><br/>Then we can have more poor Americans and non-Americans send their children to die in a mid-east country.  But first, let's try this peace thing.\"}, {u'recommendedFlag': None, u'parentID': None, u'replies': [], u'commentID': 15501546, u'trusted': 0, u'userDisplayName': u'charles corcoran', u'createDate': u'1436998585', u'userID': 61032032, u'replyCount': 0, u'commentTitle': u'<br/>', u'status': u'approved', u'sharing': 0, u'approveDate': u'1437002017', u'userTitle': u'NULL', u'recommendations': 0, u'permID': u'15501546', u'picURL': u'http://pimage.timespeople.nytimes.com/6103/2032/cropped-61032032.jpg?0.2484602585900575', u'editorsSelection': False, u'parentUserDisplayName': None, u'timespeople': 1, u'userURL': u'NULL', u'userLocation': u'stillwater mn', u'depth': 1, u'commentType': u'comment', u'updateDate': u'1437002017', u'commentSequence': 15501546, u'reportAbuseFlag': None, u'commentBody': u'I see at least issues:<br/><br/>1.  The premise of \"negotiation\" is flawed.  Iran is a signatory the non-proliferation treary.  And from a strategic geopolitical perspective, their abstinence from nuclear ambitions is non-negotiable.  Moreover, how successful are such high-stakes \"negotiations\" with non-democracies?  We are too powerful a nation to be kowtowed by a fanatical dictatorship, one with malevolent hopes for the West. '}, {u'recommendedFlag': None, u'parentID': None, u'replies': [], u'commentID': 15501516, u'trusted': 0, u'userDisplayName': u'slim1921', u'createDate': u'1436998290', u'userID': 66840187, u'replyCount': 0, u'commentTitle': u'<br/>', u'status': u'approved', u'sharing': 0, u'approveDate': u'1437002017', u'userTitle': u'NULL', u'recommendations': 1, u'permID': u'15501516', u'picURL': u'http://pimage.timespeople.nytimes.com/6684/0187/cropped-66840187.jpg?19351244681642355663', u'editorsSelection': False, u'parentUserDisplayName': None, u'timespeople': 1, u'userURL': u'NULL', u'userLocation': u'Charlotte, NC', u'depth': 1, u'commentType': u'comment', u'updateDate': u'1437002017', u'commentSequence': 15501516, u'reportAbuseFlag': None, u'commentBody': u'There was a great interview on the radio program \"The World\" with Iranian satirist Saman Arbabi who calls the Iran nuclear accord \"a big business deal.\" I tend to agree. <br/><br/>He also pointed out something I\\'ve heard several times in the past which is that \"regular\" Iranians love America and want iPhones, movies, BMWs. This is a smart, sophisticated people. If we go to war over Iranian hardliners (who will all soon be dead) we will have lost a great opportunity for a peaceful transition. We waited out the Russians and beat them. We can do it with Iran, too.<br/><br/>(from the radio program \"The World\"):<br/><br/>\"Arbabi feels that Americans don\\'t understand how much Iranians love Western culture. \\'If Leonardo DiCaprio went to Iran tomorrow, he would be elected president. They love Western culture.\\' And he thinks there\\'s a few other things Americans don\\'t get about Iran. \\'I think Americans don\\'t understand how much alcohol people consume in Iran during Ramadan. If you look at the pictures last night, you\\'d think it was Mardi Gras.\\'\"<br/><br/>link to the interview: <a href=\"http://www.pri.org/stories/2015-07-15/iranian-american-satirist-and-cartoonist-says-nuclear-deal-all-about-business\" title=\"http://www.pri.org/stories/2015-07-15/iranian-american-satirist-and-cartoonist-says-nuclear-deal-all-about-business\" target=\"_blank\">http://www.pri.org/stories/2015-07-15/iranian-american-satirist-and-cart...</a>'}, {u'recommendedFlag': None, u'parentID': None, u'replies': [{u'recommendedFlag': None, u'parentID': 15501482, u'replies': [], u'commentID': 15503019, u'trusted': 0, u'userDisplayName': u'steve', u'createDate': u'1437013848', u'userID': 51468090, u'replyCount': 0, u'commentTitle': u'n/a', u'status': u'approved', u'sharing': 0, u'approveDate': u'1437067834', u'userTitle': u'NULL', u'recommendations': 1, u'permID': u'15501482:15503019', u'picURL': u'http://graphics8.nytimes.com/images/apps/timespeople/none.png', u'editorsSelection': False, u'parentUserDisplayName': u'Marty', u'timespeople': 1, u'userURL': u'NULL', u'userLocation': u'santa cruz, ca.', u'depth': 2, u'commentType': u'userReply', u'updateDate': u'1437067834', u'commentSequence': 15503019, u'reportAbuseFlag': None, u'commentBody': u'And why would you think that OUR words have any value? Ask the Native Americans about all those treaties we signed -- and broke. Ask the South Vietnamese villagers whom we went to \"help\". Two million (2,000,000!) Vietnamese were killed by us. Or how about the Filipinos after the Spanish-American war whom we betrayed and murdered in such vast numbers after telling them a bunch of lies about supporting them in their desire for independence (read Mark Twain and other contemporaries on the subject). See where this is going Marty? You seem to think that we\\'re Good; here\\'s a news flash for ya\\' kiddo: we\\'re not.'}], u'commentID': 15501482, u'trusted': 0, u'userDisplayName': u'Marty', u'createDate': u'1436997959', u'userID': 5826004, u'replyCount': 1, u'commentTitle': u'<br/>', u'status': u'approved', u'sharing': 0, u'approveDate': u'1437002017', u'userTitle': u'NULL', u'recommendations': 1, u'permID': u'15501482', u'picURL': u'http://graphics8.nytimes.com/images/apps/timespeople/none.png', u'editorsSelection': False, u'parentUserDisplayName': None, u'timespeople': 1, u'userURL': u'NULL', u'userLocation': u'San Diego', u'depth': 1, u'commentType': u'comment', u'updateDate': u'1437002017', u'commentSequence': 15501482, u'reportAbuseFlag': None, u'commentBody': u'Ignoring the rhetoric of the the Iranian government and leaders as this agreement came to fruition seems perfectly foolish.  Why would you think the words have any value?'}, {u'recommendedFlag': None, u'parentID': None, u'replies': [], u'commentID': 15501331, u'trusted': 0, u'userDisplayName': u'Marcel', u'createDate': u'1436996790', u'userID': 67769400, u'replyCount': 0, u'commentTitle': u'<br/>', u'status': u'approved', u'sharing': 0, u'approveDate': u'1436997108', u'userTitle': u'NULL', u'recommendations': 0, u'permID': u'15501331', u'picURL': u'http://graphics8.nytimes.com/images/apps/timespeople/none.png', u'editorsSelection': False, u'parentUserDisplayName': None, u'timespeople': 1, u'userURL': u'NULL', u'userLocation': u'NY', u'depth': 1, u'commentType': u'comment', u'updateDate': u'1436997108', u'commentSequence': 15501331, u'reportAbuseFlag': None, u'commentBody': u'That this is the alternative to war is not supported by history, unless people equate war to a cold war.  The status quo of the Cold War, which was quite longer than our problem with Iran, actually saved us from a bloody war and ended quite well for many people, starting with the East Germans. '}, {u'recommendedFlag': None, u'parentID': None, u'replies': [], u'commentID': 15501269, u'trusted': 0, u'userDisplayName': u'Kalidan', u'createDate': u'1436996442', u'userID': 65362458, u'replyCount': 0, u'commentTitle': u'<br/>', u'status': u'approved', u'sharing': 0, u'approveDate': u'1436997108', u'userTitle': u'NULL', u'recommendations': 2, u'permID': u'15501269', u'picURL': u'http://graphics8.nytimes.com/images/apps/timespeople/none.png', u'editorsSelection': False, u'parentUserDisplayName': None, u'timespeople': 1, u'userURL': u'NULL', u'userLocation': u'NY', u'depth': 1, u'commentType': u'comment', u'updateDate': u'1436997108', u'commentSequence': 15501269, u'reportAbuseFlag': None, u'commentBody': u\"What unmitigated rot is this title?  <br/><br/>An 'adversary that cannot be trusted' is a contradiction in terms.  <br/><br/>Many of us can be relied upon to jump to knee jerk opposition to everything Obama does, many of us are profoundly unlikely to realize our dedication to not knowing anything, and many of us are given to irrational hysteria (an intersection that includes all Republicans).  Only because this segment seems rather large, does this sort of a discussion fly in a respected newspaper.  <br/><br/>Since when do we trust our friends, let alone our adversaries?  <br/><br/>If our litmus test for talking with anyone is having them demonstrate inviolable trust, we should stop calling ourselves an intelligent life form.  We would have to stop talking to just about everyone except the person in the mirror.  <br/><br/>Giving in to this yet another hysterical objection from neocons and their buddies is yet another surrender to our military industrial complex that wants all revenues to go to buying weapon systems that were useful for WWII (quite unsuitable for dealing with viruses like ISIL).  <br/><br/>Every day, our body politics produces a fresh opportunity for thinking people to pay attention, engage, lean in, and drown out the grossly idiotic debates that occur in Congress and in the media.  This is one of them.  <br/><br/>Kalidan\"}, {u'recommendedFlag': None, u'parentID': None, u'replies': [], u'commentID': 15501224, u'trusted': 0, u'userDisplayName': u'H', u'createDate': u'1436996223', u'userID': 63271607, u'replyCount': 0, u'commentTitle': u'<br/>', u'status': u'approved', u'sharing': 0, u'approveDate': u'1436997108', u'userTitle': u'NULL', u'recommendations': 1, u'permID': u'15501224', u'picURL': u'http://graphics8.nytimes.com/images/apps/timespeople/none.png', u'editorsSelection': False, u'parentUserDisplayName': None, u'timespeople': 1, u'userURL': u'NULL', u'userLocation': u'Washington DC', u'depth': 1, u'commentType': u'comment', u'updateDate': u'1436997108', u'commentSequence': 15501224, u'reportAbuseFlag': None, u'commentBody': u\"Allowing Iran to create weapons-grade uranium isn't the biggest problem.<br/><br/>The really big problem is enabling Iran to create plutonium through the uranium it will now be able to create.<br/><br/>Plutonium is created by using uranium in reactors.<br/><br/>Plutonium makes a much better bomb.\"}, {u'recommendedFlag': None, u'parentID': None, u'replies': [], u'commentID': 15501044, u'trusted': 0, u'userDisplayName': u'Lissa', u'createDate': u'1436995142', u'userID': 33968384, u'replyCount': 0, u'commentTitle': u'<br/>', u'status': u'approved', u'sharing': 0, u'approveDate': u'1436995758', u'userTitle': u'NULL', u'recommendations': 3, u'permID': u'15501044', u'picURL': u'http://graphics8.nytimes.com/images/apps/timespeople/none.png', u'editorsSelection': False, u'parentUserDisplayName': None, u'timespeople': 1, u'userURL': u'NULL', u'userLocation': u'Virginia', u'depth': 1, u'commentType': u'comment', u'updateDate': u'1436995758', u'commentSequence': 15501044, u'reportAbuseFlag': None, u'commentBody': u\"The reality of this situation, after all the articles and punditry weigh in, is that nobody knows what the consequences will be.  We do know where we have been; this path needs to be tried.  It will succeed or fail and either way, it will need to be tweaked.  Why do Americans struggle so much with this concept?  So much of policy is seen as a zero-sum game.  Let's do the best we can to move the conversation forward; make the best decisions we can with the knowledge we have at the time; assume the best when we can; prepare for the worst when required and prepare to pivot, regardless.\"}, {u'recommendedFlag': None, u'parentID': None, u'replies': [], u'commentID': 15500978, u'trusted': 0, u'userDisplayName': u'jas2200', u'createDate': u'1436994686', u'userID': 38162082, u'replyCount': 0, u'commentTitle': u'<br/>', u'status': u'approved', u'sharing': 0, u'approveDate': u'1436995739', u'userTitle': u'NULL', u'recommendations': 3, u'permID': u'15500978', u'picURL': u'http://graphics8.nytimes.com/images/apps/timespeople/none.png', u'editorsSelection': False, u'parentUserDisplayName': None, u'timespeople': 1, u'userURL': u'NULL', u'userLocation': u'Carlsbad, CA', u'depth': 1, u'commentType': u'comment', u'updateDate': u'1436995739', u'commentSequence': 15500978, u'reportAbuseFlag': None, u'commentBody': u\"There are many Republican politicians who have been against anything President Obama has proposed just because he proposed it.  This is true even for those things the Republicans were previously for.  They simply do not want him to be successful in anything he does, even if it is good for the country.  This started from the day he was elected when they announced their first priority was to make sure he was not re-elected.  It continued when he was re-elected because they thought it would better their chances for election in 2016.  Thy don't really care what is best for the country.<br/><br/>There are other Republican politicians who represent the neocon view.  They have never seen a war they didn't like and they think that war is preferable to diplomacy.  Led by Dick Cheney, they were in charge during the Bush II years and they lied us into the disastrous Iraq War.  They naively said that the war would pay for itself, that we would be greeted as liberator, that it would take 6 months, that Iraq would be a stable democracy in the end, etc.  Those Republicans would be against any agreement with Iran no matter what it is.  They still think that the Iraq War was a good thing to do and they would do it again.  Jeb Bush has some of these neocons on his list of advisers.  <br/><br/>Unfortunately, these two groups of Republican politicians may contain all the Republicans in Congress.  It's hard to see how any of them will support the agreement, even if they think it is best for the country. \"}, {u'recommendedFlag': None, u'parentID': None, u'replies': [], u'commentID': 15500941, u'trusted': 0, u'userDisplayName': u'Not Guilty48', u'createDate': u'1436994491', u'userID': 71441658, u'replyCount': 0, u'commentTitle': u'<br/>', u'status': u'approved', u'sharing': 0, u'approveDate': u'1436995718', u'userTitle': u'NULL', u'recommendations': 3, u'permID': u'15500941', u'picURL': u'http://graphics8.nytimes.com/images/apps/timespeople/none.png', u'editorsSelection': False, u'parentUserDisplayName': None, u'timespeople': 1, u'userURL': u'NULL', u'userLocation': u'Doylestown, PA', u'depth': 1, u'commentType': u'comment', u'updateDate': u'1436995718', u'commentSequence': 15500941, u'reportAbuseFlag': None, u'commentBody': u'Those that yell the loudest against this agreement do it on false premises and half-truths.  Their mind-set requires complete surrender by Iran, and if they\\'re not willing to surrender to American will, they\\'ll pay the consequences -- be it more and harder sanctions, or war.  They also ignore history and the need to take risks for peace.  <br/><br/>These naysayers disregard the long view, which is that the Iranian\\'s will have a long memory of the harsh sanctions they\\'ve suffered and may suffer again, just as their economy re-starts.  <br/><br/>They also ignore what will happen if there is no agreement: Iran will continue to make a bomb.  True, their people will suffer, but Iran is not the most compassionate nation on earth, and it is a dictatorship.  You can bet their leaders will spin the economic problems on America.  <br/><br/>The longer view is that Iran has a rich history and culture, and yearns for more freedom and consumer goods.  Iran knows that talking war and making bombs is not the path to this goal.  <br/><br/>Whoever would have thought that the when Menachem Begin met with Anwar Sadat they\\'d make a peace that has lasted 36 years?   No agreement is perfect, and this agreement is imperfect, but as Churchill said: \"Democracy is the worst form of government, except for all those other forms that have been tried from time to time.\" So too, this agreement is bad -- for both sides, but it offers an opportunity for long-term peace.   '}, {u'recommendedFlag': None, u'parentID': None, u'replies': [], u'commentID': 15500903, u'trusted': 0, u'userDisplayName': u'Ochki.to', u'createDate': u'1436994252', u'userID': 71708377, u'replyCount': 0, u'commentTitle': u'<br/>', u'status': u'approved', u'sharing': 0, u'approveDate': u'1436995703', u'userTitle': u'NULL', u'recommendations': 5, u'permID': u'15500903', u'picURL': u'http://graphics8.nytimes.com/images/apps/timespeople/none.png', u'editorsSelection': False, u'parentUserDisplayName': None, u'timespeople': 1, u'userURL': u'NULL', u'userLocation': u'USA', u'depth': 1, u'commentType': u'comment', u'updateDate': u'1436995703', u'commentSequence': 15500903, u'reportAbuseFlag': None, u'commentBody': u\"Obama's legacy:<br/>1) a charismatic man hitting full-blown midlife crisis by the end of his second term<br/>2) a constitutional lawyer who violated said constitution many a time<br/>3) a charismatic man who consistently lied to the voters in matters that mattered for them most<br/>4) got away with A LOT\"}, {u'recommendedFlag': None, u'parentID': None, u'replies': [], u'commentID': 15500856, u'trusted': 0, u'userDisplayName': u'Harold Tobman', u'createDate': u'1436993965', u'userID': 43079485, u'replyCount': 0, u'commentTitle': u'<br/>', u'status': u'approved', u'sharing': 0, u'approveDate': u'1436995700', u'userTitle': u'NULL', u'recommendations': 1, u'permID': u'15500856', u'picURL': u'http://graphics8.nytimes.com/images/apps/timespeople/none.png', u'editorsSelection': False, u'parentUserDisplayName': None, u'timespeople': 1, u'userURL': u'NULL', u'userLocation': u'NYC', u'depth': 1, u'commentType': u'comment', u'updateDate': u'1436995700', u'commentSequence': 15500856, u'reportAbuseFlag': None, u'commentBody': u\"Your headline describes the disagreements over this agreement in a way that makes the president seem na\\xefve and opponents of the agreement worldly.  Diplomacy for much of the public equals weakness, while skepticism is the best defense against being made the fool.  You have it all wrong.  The opponents are afraid that Iran will live up to its commitments, not that they won't.   And the president, to his great credit, is trying to change the conversation about the future in truly profound and important ways. \"}, {u'recommendedFlag': None, u'parentID': None, u'replies': [{u'recommendedFlag': None, u'parentID': 15501058, u'replies': [], u'commentID': 15505931, u'trusted': 0, u'userDisplayName': u'Jilli', u'createDate': u'1437054404', u'userID': 64353734, u'replyCount': 0, u'commentTitle': u'n/a', u'status': u'approved', u'sharing': 0, u'approveDate': u'1437068380', u'userTitle': u'NULL', u'recommendations': 0, u'permID': u'15501058:15505931', u'picURL': u'http://graphics8.nytimes.com/images/apps/timespeople/none.png', u'editorsSelection': False, u'parentUserDisplayName': u'Bill Eisen', u'timespeople': 1, u'userURL': u'NULL', u'userLocation': u'Houston, TX', u'depth': 2, u'commentType': u'userReply', u'updateDate': u'1437068380', u'commentSequence': 15505931, u'reportAbuseFlag': None, u'commentBody': u'But...but...but...whatever happened to \"your either with us , or against us?\"  It worked so well to get us into an unnecessary war, but it obviously doesn\\'t apply to attempts at peace.'}], u'commentID': 15501058, u'trusted': 1, u'userDisplayName': u'Bill Eisen', u'createDate': u'1436995220', u'userID': 59530559, u'replyCount': 1, u'commentTitle': u'<br/>', u'status': u'approved', u'sharing': 0, u'approveDate': u'1436995268', u'userTitle': u'NULL', u'recommendations': 4, u'permID': u'15501058', u'picURL': u'http://graphics8.nytimes.com/images/apps/timespeople/none.png', u'editorsSelection': False, u'parentUserDisplayName': None, u'timespeople': 1, u'userURL': u'NULL', u'userLocation': u'Manhattan Beach', u'depth': 1, u'commentType': u'comment', u'updateDate': u'1436995268', u'commentSequence': 15501058, u'reportAbuseFlag': None, u'commentBody': u\"The only alternative to capitulation is war?  More empty rhetoric from Obama,   And so after years of saying how he would never accept a nuclear armed Iran we must now accept Iran's long march to becoming a nuclear power?\"}], u'totalReplyCommentsReturned': 3, u'filter': u'newest', u'totalParentCommentsReturned': 25, u'totalReplyCommentsFound': 161, u'totalCommentsReturned': 25, u'totalEditorsSelectionReturned': 1, u'replyLimit': 3, u'totalReporterReplyCommentsFound': 0, u'api_timestamp': u'1443031473', u'totalReporterReplyCommentsReturned': 0, u'totalRecommendationsFound': 285, u'totalEditorsSelectionFound': 20, u'page': 1}, u'copyright': u'Copyright (c) 2015 The New York Times Company.  All Rights Reserved.'}\n"
     ]
    }
   ],
   "source": [
    "url = 'http://www.nytimes.com/2015/07/16/world/middleeast/obama-diplomacy-iran-nuclear-deal.html'\n",
    "link = \"http://api.nytimes.com/svc/community/v3/user-content/url.json?url=\" + url\n",
    "payload = {'api-key': '60a3f7d54baade3ed03a40bdb5f5e866:3:50984754', 'offset' : 0 }     \n",
    "content = single_query(link, payload)\n",
    "print len(content['results']['comments'])\n",
    "print content"
   ]
  },
  {
   "cell_type": "code",
   "execution_count": 72,
   "metadata": {
    "collapsed": false
   },
   "outputs": [
    {
     "data": {
      "text/plain": [
       "310"
      ]
     },
     "execution_count": 72,
     "metadata": {},
     "output_type": "execute_result"
    }
   ],
   "source": [
    "len(text)"
   ]
  },
  {
   "cell_type": "code",
   "execution_count": 61,
   "metadata": {
    "collapsed": false
   },
   "outputs": [
    {
     "name": "stdout",
     "output_type": "stream",
     "text": [
      "[0, 25, 50, 75, 100, 125, 150, 175, 200, 225, 250, 275, 300, 325, 350, 375, 400, 425, 450]\n"
     ]
    }
   ],
   "source": [
    "num_pages = list(np.arange(0, 471, 25)) \n",
    "print num_pages"
   ]
  },
  {
   "cell_type": "code",
   "execution_count": 74,
   "metadata": {
    "collapsed": false,
    "scrolled": true
   },
   "outputs": [
    {
     "data": {
      "text/plain": [
       "310"
      ]
     },
     "execution_count": 74,
     "metadata": {},
     "output_type": "execute_result"
    }
   ],
   "source": [
    "x = []\n",
    "for i in range(310):\n",
    "    x.append(text[i]['commentBody'])\n",
    "\n",
    "#all unique?\n",
    "len(set(x)) #only 43...\n",
    "#shoot..\n"
   ]
  },
  {
   "cell_type": "code",
   "execution_count": 75,
   "metadata": {
    "collapsed": false,
    "scrolled": true
   },
   "outputs": [],
   "source": [
    "# from collections import Counter\n",
    "# dups = [k for k,v in Counter(x).items() if v>1]\n",
    "# len(dups) #41\n",
    "# dups"
   ]
  },
  {
   "cell_type": "code",
   "execution_count": 42,
   "metadata": {
    "collapsed": false
   },
   "outputs": [
    {
     "data": {
      "text/plain": [
       "1"
      ]
     },
     "execution_count": 42,
     "metadata": {},
     "output_type": "execute_result"
    }
   ],
   "source": [
    "y = []\n",
    "for i in range(475):\n",
    "    if text[i]['commentID'] == 15498351:\n",
    "        y.append(text[i])\n",
    "len(y)"
   ]
  },
  {
   "cell_type": "code",
   "execution_count": 73,
   "metadata": {
    "collapsed": true
   },
   "outputs": [
    {
     "name": "stdout",
     "output_type": "stream",
     "text": [
      "471\n",
      "25\n",
      "25\n",
      "25\n",
      "25\n",
      "25\n",
      "25\n",
      "25\n",
      "25\n",
      "25\n",
      "25\n",
      "25\n",
      "25\n",
      "10\n"
     ]
    }
   ],
   "source": [
    "url = 'http://www.nytimes.com/2015/07/16/world/middleeast/obama-diplomacy-iran-nuclear-deal.html'\n",
    "link = \"http://api.nytimes.com/svc/community/v3/user-content/url.json?url=\" + url\n",
    "payload = {'api-key': '60a3f7d54baade3ed03a40bdb5f5e866:3:50984754'}     \n",
    "content = single_query(link, payload)\n",
    "total = content['results']['totalCommentsFound'] \n",
    "print total\n",
    "\n",
    "num_pages = list(np.arange(0, total, 25))  \n",
    "    \n",
    "for i in num_pages:\n",
    "    link = \"http://api.nytimes.com/svc/community/v3/user-content/url.json?url=\" + url\n",
    "    payload = {'api-key': '60a3f7d54baade3ed03a40bdb5f5e866:3:50984754', 'offset' : i}\n",
    "    content = single_query(link, payload)\n",
    "    \n",
    "    if len(content['results']['comments']) != 0: \n",
    "        print len(content['results']['comments'])\n",
    "        for y in range(len(content['results']['comments'])): \n",
    "            new_data = content['results']['comments'][y]\n",
    "            #IDs.append(new_data['commentID'])\n",
    "            text.append(new_data)\n",
    "    else:\n",
    "        pass\n",
    "    #             new_data['web_url'] = url\n",
    "    #             new_data['_id'] = content['results']['comments'][y]['commentID']\n",
    "    #             try:\n",
    "    #                 text.append(new_data)\n",
    "    #             except DuplicateKeyError:\n",
    "    #                 print 'Peggy doesnt know why its a duplicate.'\n",
    "    #                 pass"
   ]
  },
  {
   "cell_type": "code",
   "execution_count": null,
   "metadata": {
    "collapsed": true
   },
   "outputs": [],
   "source": [
    "for url in links_h:\n",
    "    link = \"http://api.nytimes.com/svc/community/v3/user-content/url.json?url=\" + url\n",
    "    payload = {'api-key': '60a3f7d54baade3ed03a40bdb5f5e866:3:50984754'}     \n",
    "    content = single_query(link, payload)\n",
    "    total = content['results']['totalCommentsFound'] \n",
    "    if total == 0:\n",
    "        pass\n",
    "    else:\n",
    "        num_pages = list(np.arange(0, total, 25))  \n",
    "        for i in num_pages:\n",
    "            link = \"http://api.nytimes.com/svc/community/v3/user-content/url.json?url=\" + url\n",
    "            payload = {'api-key': '60a3f7d54baade3ed03a40bdb5f5e866:3:50984754', 'offset' : i}\n",
    "            content = single_query(link, payload)\n",
    "            \n",
    "            if len(content['results']['comments']) != 0: \n",
    "                for y in range(len(content['results']['comments'])): \n",
    "                new_data = content['results']['comments'][y]\n",
    "                new_data['web_url'] = url\n",
    "                new_data['_id'] = content['results']['comments'][y]['commentID']\n",
    "                try:\n",
    "                    db_comments.tab_trump.insert(new_data)\n",
    "                except DuplicateKeyError:\n",
    "                    print 'Peggy doesnt know why its a duplicate.'\n",
    "                    pass"
   ]
  },
  {
   "cell_type": "code",
   "execution_count": 4,
   "metadata": {
    "collapsed": false
   },
   "outputs": [],
   "source": [
    "for url in links_t:\n",
    "    link = \"http://api.nytimes.com/svc/community/v3/user-content/url.json?url=\" + url\n",
    "    payload = {'api-key': '60a3f7d54baade3ed03a40bdb5f5e866:3:50984754'}     \n",
    "    content = single_query(link, payload)\n",
    "    total = content['results']['totalCommentsFound'] \n",
    "    if total == 0:\n",
    "        pass\n",
    "    else:\n",
    "        count = ((total/25) + 2)*25\n",
    "        num_pages = list(np.arange(0, count, 25))  \n",
    "            \n",
    "        for i in num_pages:\n",
    "            link = \"http://api.nytimes.com/svc/community/v3/user-content/url.json?url=\" + url\n",
    "            payload = {'api-key': '60a3f7d54baade3ed03a40bdb5f5e866:3:50984754', 'offset' : i}\n",
    "            print i\n",
    "            for y in range(len(content['results']['comments'])): \n",
    "                new_data = content['results']['comments'][y]\n",
    "                new_data['web_url'] = url\n",
    "                new_data['_id'] = content['results']['comments'][y]['commentID']\n",
    "                try:\n",
    "                    db_comments.tab_trump.insert(new_data)\n",
    "                except DuplicateKeyError:\n",
    "                    print 'Peggy doesnt know why its a duplicate.'\n",
    "                    pass"
   ]
  },
  {
   "cell_type": "markdown",
   "metadata": {},
   "source": [
    "###WHY ARE THERE SO MANY DUPLICATES?"
   ]
  },
  {
   "cell_type": "code",
   "execution_count": 28,
   "metadata": {
    "collapsed": false
   },
   "outputs": [],
   "source": [
    "for i in range(100):\n",
    "    articles = api.search(q = 'Donald Trump', page = i)\n",
    "    print articles\n",
    "    for y in range(len(articles['response']['docs'])):\n",
    "        new_data = articles['response']['docs'][y]\n",
    "        new_data['_id'] = articles['response']['docs'][y]['_id']\n",
    "        try:\n",
    "            db.table_trump.insert(new_data)\n",
    "        except DuplicateKeyError:\n",
    "            print 'Peggy doesnt know why its a duplicate.'"
   ]
  },
  {
   "cell_type": "code",
   "execution_count": 166,
   "metadata": {
    "collapsed": false
   },
   "outputs": [],
   "source": [
    "links = db.table_trump.find({},{'web_url': 1, '_id' : 0})\n",
    "links_t = []\n",
    "for i in links:\n",
    "    links_t.append(i['web_url'])\n"
   ]
  },
  {
   "cell_type": "code",
   "execution_count": 123,
   "metadata": {
    "collapsed": false
   },
   "outputs": [],
   "source": [
    "comments = list(db_comments.tab_carson.find({}, {'commentBody': 1, 'web_url': 1,  '_id':0})) #exclude ID\n",
    "text = []\n",
    "urls = []\n",
    "\n",
    "# for i in range(len(comments)):\n",
    "#     text.append(comments[i]['commentBody'])\n",
    "for i in range(len(comments)):\n",
    "    if comments[i].get('commentBody') == None:\n",
    "        pass\n",
    "    else:\n",
    "        text.append(comments[i]['commentBody'].encode('utf-8'))\n",
    "        urls.append(comments[i]['web_url'])\n"
   ]
  },
  {
   "cell_type": "code",
   "execution_count": 10,
   "metadata": {
    "collapsed": false
   },
   "outputs": [],
   "source": [
    "import pandas as pd\n",
    "from itertools import *\n",
    "\n",
    "df = pd.DataFrame(list(izip(text, urls)))\n",
    "#df.head()\n",
    "df.columns = ['Comment', 'URL']\n",
    "#df.sort('Comment')\n",
    "# df.to_csv('s%_comments') % 'carson'\n"
   ]
  },
  {
   "cell_type": "markdown",
   "metadata": {},
   "source": [
    "###SENTIMENT ANALYSIS VIA ALCHEMY"
   ]
  },
  {
   "cell_type": "code",
   "execution_count": 250,
   "metadata": {
    "collapsed": false
   },
   "outputs": [],
   "source": [
    "from alchemyapi import AlchemyAPI\n",
    "alchemyapi = AlchemyAPI()"
   ]
  },
  {
   "cell_type": "code",
   "execution_count": 64,
   "metadata": {
    "collapsed": true
   },
   "outputs": [],
   "source": [
    "hilary_text = []\n",
    "#text = db_comments.tab.find({},{'commentBody': 1, '_id' : 0})\n",
    "text = db_comments.tab.find()\n",
    "count = db_comments.tab.find({}).count()\n",
    "\n",
    "# for i in range(count):\n",
    "#     myText = text[i]['commentBody'].encode('utf8')\n",
    "#     hilary_text.append(myText)"
   ]
  },
  {
   "cell_type": "markdown",
   "metadata": {},
   "source": [
    "### EXAMPLE OF URL WITH DUPLCATE COMMENTS"
   ]
  },
  {
   "cell_type": "code",
   "execution_count": 66,
   "metadata": {
    "collapsed": false
   },
   "outputs": [
    {
     "name": "stdout",
     "output_type": "stream",
     "text": [
      "http://thecaucus.blogs.nytimes.com/2010/10/06/denial-and-speculation-follow-woodwards-hint-of-a-clinton-biden-swap/\n",
      "http://www.nytimes.com/2014/05/08/us/gop-to-open-assault-on-white-house-over-irs-and-benghazi.html\n"
     ]
    }
   ],
   "source": [
    "print df.sort('commentBody').loc[0, 'web_url'] #No comment section\n",
    "print df.sort('commentBody').loc[6521, 'web_url'] #has about 280 comments"
   ]
  },
  {
   "cell_type": "markdown",
   "metadata": {},
   "source": [
    "##!!!!!! ~ IGNORE HERE DOWN ~ !!!!!!!!"
   ]
  },
  {
   "cell_type": "code",
   "execution_count": 12,
   "metadata": {
    "collapsed": false
   },
   "outputs": [],
   "source": [
    "with open(\"trump.txt\", 'w') as f:\n",
    "    for i in trump_text:\n",
    "        f.write(i.encode('utf8')+ '\\n')\n",
    "        #foo.encode('utf8')\n"
   ]
  },
  {
   "cell_type": "code",
   "execution_count": 36,
   "metadata": {
    "collapsed": false
   },
   "outputs": [],
   "source": [
    "test = pd.Series(hilary_text)\n",
    "#test1 = test.drop_duplicates(0)"
   ]
  },
  {
   "cell_type": "code",
   "execution_count": 37,
   "metadata": {
    "collapsed": false
   },
   "outputs": [],
   "source": [
    "test.to_csv(\"hilary_text\")"
   ]
  },
  {
   "cell_type": "code",
   "execution_count": null,
   "metadata": {
    "collapsed": true
   },
   "outputs": [],
   "source": [
    "sentiment_t = []\n",
    "score_list_t = []\n",
    "\n",
    "text = db_comments.tab_trump.find({},{'commentBody': 1, '_id' : 0})\n",
    "count = db_comments.tab_trump.find({}).count()\n",
    "for i in range(count):\n",
    "    myText = text[i]['commentBody']\n",
    "    response = alchemyapi.sentiment(\"text\", myText)\n",
    "    sentiment_t.append(response[\"docSentiment\"][\"type\"])\n",
    "    if response[\"docSentiment\"][\"type\"] == 'neutral':\n",
    "        score_val = 0\n",
    "    else:\n",
    "        score_val = response[\"docSentiment\"][\"score\"]\n",
    "    \n",
    "    score_list_t.append(score_val)\n"
   ]
  },
  {
   "cell_type": "code",
   "execution_count": 243,
   "metadata": {
    "collapsed": false
   },
   "outputs": [],
   "source": [
    "#Donald Trump\n",
    "from itertools import *\n",
    "sent = pd.DataFrame(sentiment)\n",
    "sent.columns = ['Sentiment']\n",
    "sent['Sentiment'].value_counts()\n",
    "trump = pd.DataFrame(list(izip_longest(sentiment, score_list)))"
   ]
  },
  {
   "cell_type": "code",
   "execution_count": 94,
   "metadata": {
    "collapsed": true
   },
   "outputs": [],
   "source": [
    "import seaborn as sns\n",
    "import matplotlib.pyplot as plt\n",
    "%matplotlib inline"
   ]
  },
  {
   "cell_type": "code",
   "execution_count": 251,
   "metadata": {
    "collapsed": false
   },
   "outputs": [],
   "source": [
    "sentiment_h = []\n",
    "score_list_h = []\n",
    "\n",
    "text = db_comments.tab.find({},{'commentBody': 1, '_id' : 0})\n",
    "count = db_comments.tab.find({}).count()\n",
    "for i in range(count):\n",
    "    myText = text[i]['commentBody']\n",
    "    response = alchemyapi.sentiment(\"text\", myText)\n",
    "    sentiment_h.append(response[\"docSentiment\"][\"type\"])\n",
    "    if response[\"docSentiment\"][\"type\"] == 'neutral':\n",
    "        score_val = 0\n",
    "    else:\n",
    "        score_val = response[\"docSentiment\"][\"score\"]\n",
    "    \n",
    "    score_list_h.append(score_val)"
   ]
  },
  {
   "cell_type": "code",
   "execution_count": 252,
   "metadata": {
    "collapsed": false
   },
   "outputs": [],
   "source": [
    "#Hilary Clinton\n",
    "sentH = pd.DataFrame(sentiment_h)\n",
    "sentH.columns = ['Sentiment']\n",
    "sentH['Sentiment'].value_counts()\n",
    "hilary = pd.DataFrame(list(izip_longest(sentiment_h, score_list_h)))"
   ]
  },
  {
   "cell_type": "code",
   "execution_count": 269,
   "metadata": {
    "collapsed": false
   },
   "outputs": [
    {
     "data": {
      "text/plain": [
       "<matplotlib.text.Text at 0x10fce2d10>"
      ]
     },
     "execution_count": 269,
     "metadata": {},
     "output_type": "execute_result"
    },
    {
     "data": {
      "image/png": "[encoded data removed]",
      "text/plain": [
       "<matplotlib.figure.Figure at 0x10f9426d0>"
      ]
     },
     "metadata": {},
     "output_type": "display_data"
    }
   ],
   "source": [
    "plt.figure(figsize=(12,6))\n",
    "\n",
    "plt.subplot(1, 2, 1)\n",
    "hilary.columns = ['Sentiment', 'Score']\n",
    "hilary['Score'] = hilary['Score'].astype(float)\n",
    "hilary.sort('Sentiment', inplace=True)\n",
    "ax = sns.countplot(x=\"Sentiment\", data=hilary)\n",
    "plt.title('Hilary')\n",
    "\n",
    "plt.subplot(1, 2, 2)\n",
    "trump.columns = ['Sentiment', 'Score']\n",
    "trump['Score'] = trump['Score'].astype(float)\n",
    "trump.sort('Sentiment', inplace=True)\n",
    "ax = sns.countplot(x=\"Sentiment\", data=trump)\n",
    "plt.title('Trump')"
   ]
  },
  {
   "cell_type": "code",
   "execution_count": 274,
   "metadata": {
    "collapsed": false
   },
   "outputs": [
    {
     "data": {
      "text/plain": [
       "(-1.5, 1.5)"
      ]
     },
     "execution_count": 274,
     "metadata": {},
     "output_type": "execute_result"
    },
    {
     "data": {
      "image/png": "[encoded data removed]",
      "text/plain": [
       "<matplotlib.figure.Figure at 0x110082310>"
      ]
     },
     "metadata": {},
     "output_type": "display_data"
    }
   ],
   "source": [
    "plt.figure(figsize=(12,6))\n",
    "\n",
    "plt.subplot(1, 2, 1)\n",
    "hilary1 = hilary[~(hilary == 0).any(axis=1)]\n",
    "sns.violinplot(x=\"Sentiment\", y='Score', data=hilary1)\n",
    "plt.title('Hilary')\n",
    "plt.ylim(-1.5,1.5)\n",
    "\n",
    "plt.subplot(1, 2, 2)\n",
    "trump1 = trump[~(trump == 0).any(axis=1)]\n",
    "sns.violinplot(x=\"Sentiment\", y='Score', data=trump1)\n",
    "plt.title('Trump')\n",
    "plt.ylim(-1.5,1.5)\n"
   ]
  },
  {
   "cell_type": "markdown",
   "metadata": {},
   "source": [
    "###Basic sentiment classifier"
   ]
  },
  {
   "cell_type": "code",
   "execution_count": 1,
   "metadata": {
    "collapsed": false
   },
   "outputs": [],
   "source": [
    "import math\n",
    "import re\n",
    "#import sys\n",
    "#reload(sys)\n",
    "#sys.setdefaultencoding('utf-8')\n",
    "\n",
    "# AFINN-111 is as of June 2011 the most recent version of AFINN\n",
    "filenameAFINN = 'AFINN-111.txt'\n",
    "afinn = dict(map(lambda (w, s): (w, int(s)), [ \n",
    "            ws.strip().split('\\t') for ws in open(filenameAFINN) ]))\n",
    "\n",
    "# Word splitter pattern\n",
    "pattern_split = re.compile(r\"\\W+\")\n",
    "\n",
    "def sentiment(text):\n",
    "    \"\"\"\n",
    "    Returns a float for sentiment strength based on the input text.\n",
    "    Positive values are positive valence, negative value are negative valence. \n",
    "    \"\"\"\n",
    "    words = pattern_split.split(text.lower())\n",
    "    sentiments = map(lambda word: afinn.get(word, 0), words)\n",
    "    if sentiments:\n",
    "        # How should you weight the individual word sentiments? \n",
    "        # You could do N, sqrt(N) or 1 for example. Here I use sqrt(N)\n",
    "        sentiment = float(sum(sentiments))/math.sqrt(len(sentiments))\n",
    "        \n",
    "    else:\n",
    "        sentiment = 0\n",
    "    return sentiment\n",
    "\n",
    "\n",
    "# if __name__ == '__main__':\n",
    "#     # Single sentence example:\n",
    "#     text = \"Finn is stupid and idiotic\"\n",
    "#     print(\"%6.2f %s\" % (sentiment(text), text))\n",
    "    \n",
    "#     # No negation and booster words handled in this approach\n",
    "#     text = \"Finn is only a tiny bit stupid and not idiotic\"\n",
    "#     print(\"%6.2f %s\" % (sentiment(text), text))"
   ]
  },
  {
   "cell_type": "code",
   "execution_count": 2,
   "metadata": {
    "collapsed": false
   },
   "outputs": [
    {
     "name": "stdout",
     "output_type": "stream",
     "text": [
      " -2.24 Finn is stupid and idiotic\n"
     ]
    }
   ],
   "source": [
    "text = \"Finn is stupid and idiotic\"\n",
    "print(\"%6.2f %s\" % (sentiment(text), text))"
   ]
  },
  {
   "cell_type": "code",
   "execution_count": 36,
   "metadata": {
    "collapsed": false
   },
   "outputs": [
    {
     "ename": "ImportError",
     "evalue": "No module named pattern",
     "output_type": "error",
     "traceback": [
      "\u001b[0;31m---------------------------------------------------------------------------\u001b[0m",
      "\u001b[0;31mImportError\u001b[0m                               Traceback (most recent call last)",
      "\u001b[0;32m<ipython-input-36-4b662941bac1>\u001b[0m in \u001b[0;36m<module>\u001b[0;34m()\u001b[0m\n\u001b[0;32m----> 1\u001b[0;31m \u001b[0;32mimport\u001b[0m \u001b[0mpattern\u001b[0m\u001b[0;34m\u001b[0m\u001b[0m\n\u001b[0m",
      "\u001b[0;31mImportError\u001b[0m: No module named pattern"
     ]
    }
   ],
   "source": []
  },
  {
   "cell_type": "code",
   "execution_count": 5,
   "metadata": {
    "collapsed": false
   },
   "outputs": [],
   "source": []
  },
  {
   "cell_type": "code",
   "execution_count": 320,
   "metadata": {
    "collapsed": true
   },
   "outputs": [],
   "source": []
  },
  {
   "cell_type": "code",
   "execution_count": null,
   "metadata": {
    "collapsed": true
   },
   "outputs": [],
   "source": []
  }
 ],
 "metadata": {
  "kernelspec": {
   "display_name": "Python 2",
   "language": "python",
   "name": "python2"
  },
  "language_info": {
   "codemirror_mode": {
    "name": "ipython",
    "version": 2
   },
   "file_extension": ".py",
   "mimetype": "text/x-python",
   "name": "python",
   "nbconvert_exporter": "python",
   "pygments_lexer": "ipython2",
   "version": "2.7.10"
  }
 },
 "nbformat": 4,
 "nbformat_minor": 0
}
