{
 "cells": [
  {
   "cell_type": "code",
   "execution_count": 21,
   "metadata": {
    "collapsed": true
   },
   "outputs": [],
   "source": [
    "import pandas as pd\n",
    "import matplotlib.pyplot as plt\n",
    "import re\n",
    "import string\n",
    "import unidecode\n",
    "%matplotlib inline"
   ]
  },
  {
   "cell_type": "code",
   "execution_count": 4,
   "metadata": {
    "collapsed": true
   },
   "outputs": [],
   "source": [
    "from pattern.en import sentiment, polarity, subjectivity\n",
    "def sentiment(text):\n",
    "    return polarity(text)\n",
    "\n",
    "def subj(text):\n",
    "    return subjectivity(text)"
   ]
  },
  {
   "cell_type": "code",
   "execution_count": 1,
   "metadata": {
    "collapsed": true
   },
   "outputs": [],
   "source": [
    "hilary = pd.read_csv('old_notebooks/hilary_comments2.csv')"
   ]
  },
  {
   "cell_type": "code",
   "execution_count": 5,
   "metadata": {
    "collapsed": false
   },
   "outputs": [
    {
     "name": "stderr",
     "output_type": "stream",
     "text": [
      "/Users/datascientist/anaconda/lib/python2.7/site-packages/Pattern-2.6-py2.7.egg/pattern/text/__init__.py:2228: UnicodeWarning: Unicode equal comparison failed to convert both arguments to Unicode - interpreting them as being unequal\n",
      "  if w in map(lambda e: e.lower(), e):\n"
     ]
    },
    {
     "data": {
      "text/html": [
       "<div>\n",
       "<table border=\"1\" class=\"dataframe\">\n",
       "  <thead>\n",
       "    <tr style=\"text-align: right;\">\n",
       "      <th></th>\n",
       "      <th>Unnamed: 0</th>\n",
       "      <th>Comment</th>\n",
       "      <th>URL</th>\n",
       "      <th>Sentiment</th>\n",
       "      <th>Subjectivity</th>\n",
       "    </tr>\n",
       "  </thead>\n",
       "  <tbody>\n",
       "    <tr>\n",
       "      <th>0</th>\n",
       "      <td>0</td>\n",
       "      <td>What Republican wannabe POTUS candidate among ...</td>\n",
       "      <td>http://takingnote.blogs.nytimes.com/2015/09/03...</td>\n",
       "      <td>-0.066911</td>\n",
       "      <td>0.471123</td>\n",
       "    </tr>\n",
       "    <tr>\n",
       "      <th>1</th>\n",
       "      <td>1</td>\n",
       "      <td>Tax Pledges, loyalty pledges but still no pled...</td>\n",
       "      <td>http://takingnote.blogs.nytimes.com/2015/09/03...</td>\n",
       "      <td>0.200000</td>\n",
       "      <td>0.300000</td>\n",
       "    </tr>\n",
       "    <tr>\n",
       "      <th>2</th>\n",
       "      <td>2</td>\n",
       "      <td>Correct me if I'm wrong, but I believe Republi...</td>\n",
       "      <td>http://takingnote.blogs.nytimes.com/2015/09/03...</td>\n",
       "      <td>-0.025000</td>\n",
       "      <td>0.383333</td>\n",
       "    </tr>\n",
       "    <tr>\n",
       "      <th>3</th>\n",
       "      <td>3</td>\n",
       "      <td>Trump isn't running for President he is runnin...</td>\n",
       "      <td>http://takingnote.blogs.nytimes.com/2015/09/03...</td>\n",
       "      <td>0.300000</td>\n",
       "      <td>0.200000</td>\n",
       "    </tr>\n",
       "    <tr>\n",
       "      <th>4</th>\n",
       "      <td>4</td>\n",
       "      <td>The GOP now owns Trump and all his narrow-mind...</td>\n",
       "      <td>http://takingnote.blogs.nytimes.com/2015/09/03...</td>\n",
       "      <td>0.000000</td>\n",
       "      <td>0.000000</td>\n",
       "    </tr>\n",
       "  </tbody>\n",
       "</table>\n",
       "</div>"
      ],
      "text/plain": [
       "   Unnamed: 0                                            Comment  \\\n",
       "0           0  What Republican wannabe POTUS candidate among ...   \n",
       "1           1  Tax Pledges, loyalty pledges but still no pled...   \n",
       "2           2  Correct me if I'm wrong, but I believe Republi...   \n",
       "3           3  Trump isn't running for President he is runnin...   \n",
       "4           4  The GOP now owns Trump and all his narrow-mind...   \n",
       "\n",
       "                                                 URL  Sentiment  Subjectivity  \n",
       "0  http://takingnote.blogs.nytimes.com/2015/09/03...  -0.066911      0.471123  \n",
       "1  http://takingnote.blogs.nytimes.com/2015/09/03...   0.200000      0.300000  \n",
       "2  http://takingnote.blogs.nytimes.com/2015/09/03...  -0.025000      0.383333  \n",
       "3  http://takingnote.blogs.nytimes.com/2015/09/03...   0.300000      0.200000  \n",
       "4  http://takingnote.blogs.nytimes.com/2015/09/03...   0.000000      0.000000  "
      ]
     },
     "execution_count": 5,
     "metadata": {},
     "output_type": "execute_result"
    }
   ],
   "source": [
    "hilary['Sentiment'] = hilary.apply(lambda row: sentiment(row['Comment']), axis = 1)\n",
    "hilary['Subjectivity'] = hilary.apply(lambda row: subj(row['Comment']), axis = 1)\n",
    "hilary.head()\n",
    "#hilary.to_csv('hilary_scores')"
   ]
  },
  {
   "cell_type": "code",
   "execution_count": 10,
   "metadata": {
    "collapsed": false
   },
   "outputs": [
    {
     "data": {
      "text/plain": [
       "25000"
      ]
     },
     "execution_count": 10,
     "metadata": {},
     "output_type": "execute_result"
    }
   ],
   "source": [
    "len(hilary)"
   ]
  },
  {
   "cell_type": "code",
   "execution_count": 9,
   "metadata": {
    "collapsed": false
   },
   "outputs": [
    {
     "data": {
      "text/plain": [
       "[<matplotlib.lines.Line2D at 0x11119af10>]"
      ]
     },
     "execution_count": 9,
     "metadata": {},
     "output_type": "execute_result"
    },
    {
     "data": {
      "image/png": "[encoded data removed]",
      "text/plain": [
       "<matplotlib.figure.Figure at 0x108664d10>"
      ]
     },
     "metadata": {},
     "output_type": "display_data"
    }
   ],
   "source": [
    "from scipy.stats import gaussian_kde\n",
    "plt.figure(figsize=(20,10))\n",
    "\n",
    "data = hilary['Sentiment']\n",
    "density = gaussian_kde(data)\n",
    "xs = np.linspace(-1,1,300)\n",
    "density.covariance_factor = lambda : .25\n",
    "density._compute_covariance()\n",
    "plt.plot(xs,density(xs), color = 'r', label = 'Hilary')\n"
   ]
  },
  {
   "cell_type": "code",
   "execution_count": 17,
   "metadata": {
    "collapsed": false
   },
   "outputs": [],
   "source": [
    "def remove_html_tags(data):\n",
    "    p = re.compile(r'<[^<]*?>')\n",
    "    return p.sub('', data)"
   ]
  },
  {
   "cell_type": "code",
   "execution_count": 28,
   "metadata": {
    "collapsed": false
   },
   "outputs": [
    {
     "name": "stderr",
     "output_type": "stream",
     "text": [
      "/Users/datascientist/anaconda/lib/python2.7/site-packages/ipykernel/__main__.py:3: RuntimeWarning: Argument <type 'str'> is not an unicode object. Passing an encoded string will likely have unexpected results.\n",
      "  app.launch_new_instance()\n"
     ]
    },
    {
     "data": {
      "text/plain": [
       "'What Republican wannabe POTUS candidate among the 17 entrants in this campaign 2016 circus would want Donald Trump s endorsement?  Trump s written pledge to support whomever the RNC nominates next year is worth bupkes and means diddly.  Trump s nasty pufflicity self-promotional campaign has ignited GOP iggerodies and right wing zealots who don t care who is President - and since getting Obama out of the White House and Oval Office is their only goal, they will achieve it come January 2017.  Pretty far down the road to be making predictions about who will run for the Republicans a year from now. Alas, we, the American people, are the losers. And Donald Trump , if he doesn t explode or implode before these 14 months till Election Day 2016 occurs, will still be saying \"you re fired!\" to his TV reality show contestants and American couch potato audience.'"
      ]
     },
     "execution_count": 28,
     "metadata": {},
     "output_type": "execute_result"
    }
   ],
   "source": [
    "content = hilary.ix[0]['Comment']\n",
    "content = remove_html_tags(content)\n",
    "content = body_text = unidecode.unidecode(content).replace(\"\\n\",\" \").replace(\"\\'\", \" \")\n"
   ]
  },
  {
   "cell_type": "code",
   "execution_count": 36,
   "metadata": {
    "collapsed": false
   },
   "outputs": [],
   "source": [
    "def Sentences(paragraph):\n",
    "    ''' break a paragraph into sentences\n",
    "        and return a list '''\n",
    "    import re\n",
    "    # to split by multile characters\n",
    "\n",
    "    #   regular expressions are easiest (and fastest)\n",
    "    sentenceEnders = re.compile('[.!?]')\n",
    "    sentenceList = sentenceEnders.split(paragraph)\n",
    "    return sentenceList"
   ]
  },
  {
   "cell_type": "code",
   "execution_count": 51,
   "metadata": {
    "collapsed": false
   },
   "outputs": [
    {
     "name": "stdout",
     "output_type": "stream",
     "text": [
      "0.0\n",
      "0.15\n",
      "True\n",
      "-0.178571428571\n",
      "True\n",
      "0.0648148148148\n",
      "True\n",
      "-0.2\n",
      "True\n",
      "0.0\n",
      "0.0\n",
      "0.0\n"
     ]
    }
   ],
   "source": [
    "s_max = 0\n",
    "comment_score = 0\n",
    "\n",
    "for i in Sentences(content):\n",
    "    print sentiment(i)\n",
    "    if abs(sentiment(i)) > s_max:\n",
    "        print \"True\"\n",
    "        comment_score = sentiment(i)\n",
    "        print comment_score\n",
    "#         s_max = sentiment(i)\n"
   ]
  },
  {
   "cell_type": "code",
   "execution_count": 47,
   "metadata": {
    "collapsed": false
   },
   "outputs": [
    {
     "data": {
      "text/plain": [
       "0.0"
      ]
     },
     "execution_count": 47,
     "metadata": {},
     "output_type": "execute_result"
    }
   ],
   "source": [
    "comment_score"
   ]
  },
  {
   "cell_type": "code",
   "execution_count": null,
   "metadata": {
    "collapsed": true
   },
   "outputs": [],
   "source": []
  }
 ],
 "metadata": {
  "kernelspec": {
   "display_name": "Python 2",
   "language": "python",
   "name": "python2"
  },
  "language_info": {
   "codemirror_mode": {
    "name": "ipython",
    "version": 2
   },
   "file_extension": ".py",
   "mimetype": "text/x-python",
   "name": "python",
   "nbconvert_exporter": "python",
   "pygments_lexer": "ipython2",
   "version": "2.7.10"
  }
 },
 "nbformat": 4,
 "nbformat_minor": 0
}
